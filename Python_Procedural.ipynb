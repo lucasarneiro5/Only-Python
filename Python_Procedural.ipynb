{
  "nbformat": 4,
  "nbformat_minor": 0,
  "metadata": {
    "colab": {
      "name": "Python Procedural.ipynb",
      "provenance": [],
      "collapsed_sections": []
    },
    "kernelspec": {
      "name": "python3",
      "display_name": "Python 3"
    }
  },
  "cells": [
    {
      "cell_type": "markdown",
      "metadata": {
        "id": "UjdtzLmqgnlr"
      },
      "source": [
        "1) LISTA"
      ]
    },
    {
      "cell_type": "code",
      "metadata": {
        "id": "DNLvPVMmgdPw",
        "outputId": "94cb49fa-7c6e-4989-8dac-1b8b00c5af38",
        "colab": {
          "base_uri": "https://localhost:8080/",
          "height": 34
        }
      },
      "source": [
        "# MONTANDO UMA LISTA de 10 a 0 de 2 em 2\n",
        "lista = list(range(10, 0, -2))\n",
        "lista"
      ],
      "execution_count": null,
      "outputs": [
        {
          "output_type": "execute_result",
          "data": {
            "text/plain": [
              "[10, 8, 6, 4, 2]"
            ]
          },
          "metadata": {
            "tags": []
          },
          "execution_count": 2
        }
      ]
    },
    {
      "cell_type": "code",
      "metadata": {
        "id": "lTvLkC-Ag42j",
        "outputId": "92b58003-2445-47f0-f881-c605e3c8ff01",
        "colab": {
          "base_uri": "https://localhost:8080/",
          "height": 34
        }
      },
      "source": [
        "# Colocar a lista em ordem crescente\n",
        "lista.sort()\n",
        "lista"
      ],
      "execution_count": null,
      "outputs": [
        {
          "output_type": "execute_result",
          "data": {
            "text/plain": [
              "[2, 4, 6, 8, 10]"
            ]
          },
          "metadata": {
            "tags": []
          },
          "execution_count": 4
        }
      ]
    },
    {
      "cell_type": "code",
      "metadata": {
        "id": "DdkWSuE5hXvc",
        "outputId": "e9137b57-ee15-4eb6-cb48-f05f7253dc04",
        "colab": {
          "base_uri": "https://localhost:8080/",
          "height": 34
        }
      },
      "source": [
        "# Adicionar +1 elemento\n",
        "lista.extend([12,14])\n",
        "lista"
      ],
      "execution_count": null,
      "outputs": [
        {
          "output_type": "execute_result",
          "data": {
            "text/plain": [
              "[2, 4, 6, 8, 10, 12, 14, 12, 14]"
            ]
          },
          "metadata": {
            "tags": []
          },
          "execution_count": 6
        }
      ]
    },
    {
      "cell_type": "code",
      "metadata": {
        "id": "khJo4lNQiexU",
        "outputId": "f5b4519f-743a-4527-d2f5-7a10fbd794e1",
        "colab": {
          "base_uri": "https://localhost:8080/",
          "height": 34
        }
      },
      "source": [
        "lista+[16, 18]"
      ],
      "execution_count": null,
      "outputs": [
        {
          "output_type": "execute_result",
          "data": {
            "text/plain": [
              "[2, 4, 6, 8, 10, 12, 14, 12, 14, 16, 18]"
            ]
          },
          "metadata": {
            "tags": []
          },
          "execution_count": 7
        }
      ]
    },
    {
      "cell_type": "code",
      "metadata": {
        "id": "sup6RxWvjK3L",
        "outputId": "17e1c42f-c04f-4b91-ba33-f17cad4efa3e",
        "colab": {
          "base_uri": "https://localhost:8080/",
          "height": 34
        }
      },
      "source": [
        "# Separar string em lista\n",
        "'Python Pro'.split()"
      ],
      "execution_count": null,
      "outputs": [
        {
          "output_type": "execute_result",
          "data": {
            "text/plain": [
              "['Python', 'Pro']"
            ]
          },
          "metadata": {
            "tags": []
          },
          "execution_count": 8
        }
      ]
    },
    {
      "cell_type": "code",
      "metadata": {
        "id": "46EFsR-pjck0",
        "outputId": "e3affe09-74d2-495d-b07e-ae1a290bd3e4",
        "colab": {
          "base_uri": "https://localhost:8080/",
          "height": 34
        }
      },
      "source": [
        "# Separar por elemento\n",
        "'Python-Pro'.split('-')"
      ],
      "execution_count": null,
      "outputs": [
        {
          "output_type": "execute_result",
          "data": {
            "text/plain": [
              "['Python', 'Pro']"
            ]
          },
          "metadata": {
            "tags": []
          },
          "execution_count": 10
        }
      ]
    },
    {
      "cell_type": "code",
      "metadata": {
        "id": "N1HWUvPajl4z",
        "outputId": "8ff64039-fe24-48d7-8816-c1c3971c59e0",
        "colab": {
          "base_uri": "https://localhost:8080/",
          "height": 34
        }
      },
      "source": [
        "# Adicionar a string em uma lista\n",
        "lista2 =_ \n",
        "lista2"
      ],
      "execution_count": null,
      "outputs": [
        {
          "output_type": "execute_result",
          "data": {
            "text/plain": [
              "['Python', 'Pro']"
            ]
          },
          "metadata": {
            "tags": []
          },
          "execution_count": 11
        }
      ]
    },
    {
      "cell_type": "code",
      "metadata": {
        "id": "SNcvBz2QkOFc",
        "outputId": "d32ecf93-b8d0-4021-d220-4af40994670f",
        "colab": {
          "base_uri": "https://localhost:8080/",
          "height": 35
        }
      },
      "source": [
        "# Se quiser juntar elementos da string use o elemento desejado: ''.joint(nome da lista)\n",
        "'#'.join(lista2)"
      ],
      "execution_count": null,
      "outputs": [
        {
          "output_type": "execute_result",
          "data": {
            "application/vnd.google.colaboratory.intrinsic+json": {
              "type": "string"
            },
            "text/plain": [
              "'Python#Pro'"
            ]
          },
          "metadata": {
            "tags": []
          },
          "execution_count": 13
        }
      ]
    },
    {
      "cell_type": "markdown",
      "metadata": {
        "id": "MgpKmPVIFtrj"
      },
      "source": [
        "======================================================================"
      ]
    },
    {
      "cell_type": "markdown",
      "metadata": {
        "id": "b9rurUBgAYBq"
      },
      "source": [
        "2) TUPLA = Imutável"
      ]
    },
    {
      "cell_type": "code",
      "metadata": {
        "id": "no32bD6pkS82",
        "outputId": "4efe42e5-a7c9-4535-f28f-39e6eacd2dc1",
        "colab": {
          "base_uri": "https://localhost:8080/",
          "height": 34
        }
      },
      "source": [
        "# Criando uma\n",
        "tuple(range(6))"
      ],
      "execution_count": null,
      "outputs": [
        {
          "output_type": "execute_result",
          "data": {
            "text/plain": [
              "(0, 1, 2, 3, 4, 5)"
            ]
          },
          "metadata": {
            "tags": []
          },
          "execution_count": 14
        }
      ]
    },
    {
      "cell_type": "code",
      "metadata": {
        "id": "vq4rCm4BAmja"
      },
      "source": [
        "registro = ('Enzo', 35)"
      ],
      "execution_count": null,
      "outputs": []
    },
    {
      "cell_type": "code",
      "metadata": {
        "id": "RG8poDfoBfJZ"
      },
      "source": [
        "registro_2 = ('Lu', 40)"
      ],
      "execution_count": null,
      "outputs": []
    },
    {
      "cell_type": "code",
      "metadata": {
        "id": "E4q_ury8BipJ",
        "outputId": "24978d9f-93d2-4744-e763-cc45dcf92a6c",
        "colab": {
          "base_uri": "https://localhost:8080/",
          "height": 34
        }
      },
      "source": [
        "registro + registro_2"
      ],
      "execution_count": null,
      "outputs": [
        {
          "output_type": "execute_result",
          "data": {
            "text/plain": [
              "('Enzo', 35, 'Lu', 40)"
            ]
          },
          "metadata": {
            "tags": []
          },
          "execution_count": 17
        }
      ]
    },
    {
      "cell_type": "code",
      "metadata": {
        "id": "JQjG9-wIBmsI",
        "outputId": "4ec640ca-283f-488a-e6d0-ea7c13bacd67",
        "colab": {
          "base_uri": "https://localhost:8080/",
          "height": 35
        }
      },
      "source": [
        "# Fatiando elementos\n",
        "nome='Renzo'\n",
        "nome[0]"
      ],
      "execution_count": null,
      "outputs": [
        {
          "output_type": "execute_result",
          "data": {
            "application/vnd.google.colaboratory.intrinsic+json": {
              "type": "string"
            },
            "text/plain": [
              "'R'"
            ]
          },
          "metadata": {
            "tags": []
          },
          "execution_count": 2
        }
      ]
    },
    {
      "cell_type": "code",
      "metadata": {
        "id": "r_slYUqPCOxp",
        "outputId": "9853e5aa-0b0f-465a-80c5-55477af47a1d",
        "colab": {
          "base_uri": "https://localhost:8080/",
          "height": 35
        }
      },
      "source": [
        "nome[1]"
      ],
      "execution_count": null,
      "outputs": [
        {
          "output_type": "execute_result",
          "data": {
            "application/vnd.google.colaboratory.intrinsic+json": {
              "type": "string"
            },
            "text/plain": [
              "'e'"
            ]
          },
          "metadata": {
            "tags": []
          },
          "execution_count": 19
        }
      ]
    },
    {
      "cell_type": "code",
      "metadata": {
        "id": "EXACd_PTCQIQ",
        "outputId": "414ae9c8-b5e5-4d8d-c553-f2f38560353f",
        "colab": {
          "base_uri": "https://localhost:8080/",
          "height": 35
        }
      },
      "source": [
        "# Ultimo elemento\n",
        "nome[len(nome) - 1]"
      ],
      "execution_count": null,
      "outputs": [
        {
          "output_type": "execute_result",
          "data": {
            "application/vnd.google.colaboratory.intrinsic+json": {
              "type": "string"
            },
            "text/plain": [
              "'o'"
            ]
          },
          "metadata": {
            "tags": []
          },
          "execution_count": 20
        }
      ]
    },
    {
      "cell_type": "code",
      "metadata": {
        "id": "CM_dVLrnCVJp",
        "outputId": "ff29beee-da87-48b9-eef8-ed1bac57cfda",
        "colab": {
          "base_uri": "https://localhost:8080/",
          "height": 35
        }
      },
      "source": [
        "# OU pode-se ler de trás pra frente\n",
        "nome[-1]"
      ],
      "execution_count": null,
      "outputs": [
        {
          "output_type": "execute_result",
          "data": {
            "application/vnd.google.colaboratory.intrinsic+json": {
              "type": "string"
            },
            "text/plain": [
              "'o'"
            ]
          },
          "metadata": {
            "tags": []
          },
          "execution_count": 21
        }
      ]
    },
    {
      "cell_type": "code",
      "metadata": {
        "id": "Hn_ATMYRCdzJ",
        "outputId": "e022e08c-f0a4-4d7e-c52a-401f9993ff51",
        "colab": {
          "base_uri": "https://localhost:8080/",
          "height": 35
        }
      },
      "source": [
        "# Pegar os 3 primeiros\n",
        "nome[0:3]"
      ],
      "execution_count": null,
      "outputs": [
        {
          "output_type": "execute_result",
          "data": {
            "application/vnd.google.colaboratory.intrinsic+json": {
              "type": "string"
            },
            "text/plain": [
              "'Ren'"
            ]
          },
          "metadata": {
            "tags": []
          },
          "execution_count": 22
        }
      ]
    },
    {
      "cell_type": "code",
      "metadata": {
        "id": "ooT-29YDCm60",
        "outputId": "b5ce90f1-7bb0-44bc-93d0-431fa5f9e8fd",
        "colab": {
          "base_uri": "https://localhost:8080/",
          "height": 35
        }
      },
      "source": [
        "# Pegar os 3 ultimos. Sempre [a partir deste elemento : até este, mas ele não]\n",
        "nome[-3:]"
      ],
      "execution_count": null,
      "outputs": [
        {
          "output_type": "execute_result",
          "data": {
            "application/vnd.google.colaboratory.intrinsic+json": {
              "type": "string"
            },
            "text/plain": [
              "'nzo'"
            ]
          },
          "metadata": {
            "tags": []
          },
          "execution_count": 7
        }
      ]
    },
    {
      "cell_type": "code",
      "metadata": {
        "id": "1d9xe-ThFN0I",
        "outputId": "a17febe1-4a07-4908-b9b8-390602e6c02b",
        "colab": {
          "base_uri": "https://localhost:8080/",
          "height": 35
        }
      },
      "source": [
        "# Pulando por passos = [Pega do inicio, até a 3ª letra, de 2 em 2]\n",
        "nome[:4:2]"
      ],
      "execution_count": null,
      "outputs": [
        {
          "output_type": "execute_result",
          "data": {
            "application/vnd.google.colaboratory.intrinsic+json": {
              "type": "string"
            },
            "text/plain": [
              "'Rn'"
            ]
          },
          "metadata": {
            "tags": []
          },
          "execution_count": 9
        }
      ]
    },
    {
      "cell_type": "code",
      "metadata": {
        "id": "ITzwc34GDCJg",
        "outputId": "f34f0966-2dee-4938-9026-fc9e297c6b94",
        "colab": {
          "base_uri": "https://localhost:8080/",
          "height": 35
        }
      },
      "source": [
        "# Fazer a string de trás para frente.\n",
        "nome[::-1]"
      ],
      "execution_count": null,
      "outputs": [
        {
          "output_type": "execute_result",
          "data": {
            "application/vnd.google.colaboratory.intrinsic+json": {
              "type": "string"
            },
            "text/plain": [
              "'ozneR'"
            ]
          },
          "metadata": {
            "tags": []
          },
          "execution_count": 8
        }
      ]
    },
    {
      "cell_type": "markdown",
      "metadata": {
        "id": "TgWUlolgFxt7"
      },
      "source": [
        "======================================================================\n"
      ]
    },
    {
      "cell_type": "markdown",
      "metadata": {
        "id": "w6uf6aqeF4Dx"
      },
      "source": [
        "3) WHILE"
      ]
    },
    {
      "cell_type": "code",
      "metadata": {
        "id": "MQ8dXw4oFGJA"
      },
      "source": [
        "nome = 'Lucas'"
      ],
      "execution_count": null,
      "outputs": []
    },
    {
      "cell_type": "code",
      "metadata": {
        "id": "4KCEzcr8GKNP",
        "outputId": "02706ac0-4753-4655-8246-10beb8dfb199",
        "colab": {
          "base_uri": "https://localhost:8080/",
          "height": 102
        }
      },
      "source": [
        "# Deseja-se acessar cada caracter separadamente\n",
        "i = 0\n",
        "while i < len(nome):\n",
        "  print(nome[i])\n",
        "  i += 1"
      ],
      "execution_count": null,
      "outputs": [
        {
          "output_type": "stream",
          "text": [
            "L\n",
            "u\n",
            "c\n",
            "a\n",
            "s\n"
          ],
          "name": "stdout"
        }
      ]
    },
    {
      "cell_type": "markdown",
      "metadata": {
        "id": "1bB_lqcaG3Ct"
      },
      "source": [
        "======================================================================"
      ]
    },
    {
      "cell_type": "markdown",
      "metadata": {
        "id": "pS0Mx7zUG5rO"
      },
      "source": [
        "4) FOR"
      ]
    },
    {
      "cell_type": "code",
      "metadata": {
        "id": "hh36zm-oGtmL",
        "outputId": "d611e392-c76d-470c-bd3d-cb59fa2db645",
        "colab": {
          "base_uri": "https://localhost:8080/",
          "height": 102
        }
      },
      "source": [
        "for v in nome:\n",
        "  print(v)"
      ],
      "execution_count": null,
      "outputs": [
        {
          "output_type": "stream",
          "text": [
            "L\n",
            "u\n",
            "c\n",
            "a\n",
            "s\n"
          ],
          "name": "stdout"
        }
      ]
    },
    {
      "cell_type": "code",
      "metadata": {
        "id": "bvZjqDPtHSC1",
        "outputId": "b09df58c-6ae3-406e-928f-b0349abda2f1",
        "colab": {
          "base_uri": "https://localhost:8080/",
          "height": 102
        }
      },
      "source": [
        "# Para os indices do nome\n",
        "for i in range(len(nome)):\n",
        "  print(i, nome[i])"
      ],
      "execution_count": null,
      "outputs": [
        {
          "output_type": "stream",
          "text": [
            "0 L\n",
            "1 u\n",
            "2 c\n",
            "3 a\n",
            "4 s\n"
          ],
          "name": "stdout"
        }
      ]
    },
    {
      "cell_type": "code",
      "metadata": {
        "id": "B2jzPoCVHm4d",
        "outputId": "3b1d654f-5277-49d7-88bb-034402374c58",
        "colab": {
          "base_uri": "https://localhost:8080/",
          "height": 102
        }
      },
      "source": [
        "# Enumerate: Mostrar iteração entre indice e seu respectivo valor\n",
        "for i, v in enumerate(nome):\n",
        "  print(i, v)"
      ],
      "execution_count": null,
      "outputs": [
        {
          "output_type": "stream",
          "text": [
            "0 L\n",
            "1 u\n",
            "2 c\n",
            "3 a\n",
            "4 s\n"
          ],
          "name": "stdout"
        }
      ]
    },
    {
      "cell_type": "markdown",
      "metadata": {
        "id": "UPRuJ8qjJnoD"
      },
      "source": [
        "======================================================================"
      ]
    },
    {
      "cell_type": "markdown",
      "metadata": {
        "id": "n1rBrVnXJqju"
      },
      "source": [
        "5) DICIONARIO"
      ]
    },
    {
      "cell_type": "code",
      "metadata": {
        "id": "SfRw72_aIBrU",
        "outputId": "ab44d1f9-eb30-49e3-c98d-bcb15756a56b",
        "colab": {
          "base_uri": "https://localhost:8080/",
          "height": 34
        }
      },
      "source": [
        "linguas = {'br': 'portugues', 'eua': 'ingles'}\n",
        "linguas"
      ],
      "execution_count": null,
      "outputs": [
        {
          "output_type": "execute_result",
          "data": {
            "text/plain": [
              "{'br': 'portugues', 'eua': 'ingles'}"
            ]
          },
          "metadata": {
            "tags": []
          },
          "execution_count": 18
        }
      ]
    },
    {
      "cell_type": "code",
      "metadata": {
        "id": "-UjfH8-_KIf8",
        "outputId": "5220671b-8424-45f6-8c39-c7ff59076dfa",
        "colab": {
          "base_uri": "https://localhost:8080/",
          "height": 35
        }
      },
      "source": [
        "# Para pegar um elemento no dicionario\n",
        "linguas.get('br')"
      ],
      "execution_count": null,
      "outputs": [
        {
          "output_type": "execute_result",
          "data": {
            "application/vnd.google.colaboratory.intrinsic+json": {
              "type": "string"
            },
            "text/plain": [
              "'portugues'"
            ]
          },
          "metadata": {
            "tags": []
          },
          "execution_count": 19
        }
      ]
    },
    {
      "cell_type": "code",
      "metadata": {
        "id": "ofBi06cWKRvT",
        "outputId": "4e7a5b04-b7e2-4495-c645-733b87c9f479",
        "colab": {
          "base_uri": "https://localhost:8080/",
          "height": 35
        }
      },
      "source": [
        "# Caso nao encontre o elemento, envie uma mensagem\n",
        "linguas.get('es', 'not defined')"
      ],
      "execution_count": null,
      "outputs": [
        {
          "output_type": "execute_result",
          "data": {
            "application/vnd.google.colaboratory.intrinsic+json": {
              "type": "string"
            },
            "text/plain": [
              "'not defined'"
            ]
          },
          "metadata": {
            "tags": []
          },
          "execution_count": 20
        }
      ]
    },
    {
      "cell_type": "code",
      "metadata": {
        "id": "mS-jha8oKhEz",
        "outputId": "701470b0-e800-4957-eeec-7c16016d1f37",
        "colab": {
          "base_uri": "https://localhost:8080/",
          "height": 34
        }
      },
      "source": [
        "# Verificar se existe um elemento\n",
        "'br' in linguas"
      ],
      "execution_count": null,
      "outputs": [
        {
          "output_type": "execute_result",
          "data": {
            "text/plain": [
              "True"
            ]
          },
          "metadata": {
            "tags": []
          },
          "execution_count": 21
        }
      ]
    },
    {
      "cell_type": "code",
      "metadata": {
        "id": "zQ02d8WAK4bl",
        "outputId": "3e4cfe19-eb7d-43be-b7a0-6d7bdf0636e8",
        "colab": {
          "base_uri": "https://localhost:8080/",
          "height": 34
        }
      },
      "source": [
        "'es' in linguas"
      ],
      "execution_count": null,
      "outputs": [
        {
          "output_type": "execute_result",
          "data": {
            "text/plain": [
              "False"
            ]
          },
          "metadata": {
            "tags": []
          },
          "execution_count": 22
        }
      ]
    },
    {
      "cell_type": "code",
      "metadata": {
        "id": "SpyVvlAiK7Eb",
        "outputId": "a9622372-cdf6-46d3-83d6-9e4bd131e026",
        "colab": {
          "base_uri": "https://localhost:8080/",
          "height": 51
        }
      },
      "source": [
        "for chave in linguas:\n",
        "  print(chave)"
      ],
      "execution_count": null,
      "outputs": [
        {
          "output_type": "stream",
          "text": [
            "br\n",
            "eua\n"
          ],
          "name": "stdout"
        }
      ]
    },
    {
      "cell_type": "code",
      "metadata": {
        "id": "1egGjaQNMTM1",
        "outputId": "d867cb82-e261-401c-8d48-d080b3975e79",
        "colab": {
          "base_uri": "https://localhost:8080/",
          "height": 51
        }
      },
      "source": [
        "# Imprimir chaves\n",
        "for chave in linguas.keys():\n",
        "  print(chave)"
      ],
      "execution_count": null,
      "outputs": [
        {
          "output_type": "stream",
          "text": [
            "br\n",
            "eua\n"
          ],
          "name": "stdout"
        }
      ]
    },
    {
      "cell_type": "code",
      "metadata": {
        "id": "udlLB9WHMmN6",
        "outputId": "632b44d4-0347-42eb-c8d9-8600047a0592",
        "colab": {
          "base_uri": "https://localhost:8080/",
          "height": 51
        }
      },
      "source": [
        "# Imprimir valor das chaves\n",
        "for valor in linguas.values():\n",
        "  print(valor)"
      ],
      "execution_count": null,
      "outputs": [
        {
          "output_type": "stream",
          "text": [
            "portugues\n",
            "ingles\n"
          ],
          "name": "stdout"
        }
      ]
    },
    {
      "cell_type": "code",
      "metadata": {
        "id": "3fpakrhpMyDT",
        "outputId": "5093391c-37c7-488e-faa1-5968fb6c4e42",
        "colab": {
          "base_uri": "https://localhost:8080/",
          "height": 51
        }
      },
      "source": [
        "# Imprimir chave e valor do dicionario\n",
        "for chave, valor in linguas.items():\n",
        "  print(chave, valor)"
      ],
      "execution_count": null,
      "outputs": [
        {
          "output_type": "stream",
          "text": [
            "br portugues\n",
            "eua ingles\n"
          ],
          "name": "stdout"
        }
      ]
    },
    {
      "cell_type": "code",
      "metadata": {
        "id": "kb01cBbuNBBL",
        "outputId": "96617de3-8cae-479f-c0b1-9eec0120ebec",
        "colab": {
          "base_uri": "https://localhost:8080/",
          "height": 35
        }
      },
      "source": [
        "# Remover valor\n",
        "linguas.pop('br')"
      ],
      "execution_count": null,
      "outputs": [
        {
          "output_type": "execute_result",
          "data": {
            "application/vnd.google.colaboratory.intrinsic+json": {
              "type": "string"
            },
            "text/plain": [
              "'portugues'"
            ]
          },
          "metadata": {
            "tags": []
          },
          "execution_count": 28
        }
      ]
    },
    {
      "cell_type": "code",
      "metadata": {
        "id": "yxSsMCS3NNQ7"
      },
      "source": [
        "# OU\n",
        "del linguas['eua']"
      ],
      "execution_count": null,
      "outputs": []
    },
    {
      "cell_type": "markdown",
      "metadata": {
        "id": "_nP96r_HWTce"
      },
      "source": [
        "======================================================================"
      ]
    },
    {
      "cell_type": "markdown",
      "metadata": {
        "id": "Agr2k7D-WVZr"
      },
      "source": [
        "6) FUNÇÕES"
      ]
    },
    {
      "cell_type": "code",
      "metadata": {
        "id": "Ah2rpVJYNRKq"
      },
      "source": [
        "# Criando uma função\n",
        "def ola(nome):\n",
        "  return f'Olá {nome}'"
      ],
      "execution_count": null,
      "outputs": []
    },
    {
      "cell_type": "code",
      "metadata": {
        "id": "3KokVaMSX1R-",
        "outputId": "e9a98eb9-5510-4029-89a3-44cb8623532b",
        "colab": {
          "base_uri": "https://localhost:8080/",
          "height": 35
        }
      },
      "source": [
        "ola('Lucas')"
      ],
      "execution_count": null,
      "outputs": [
        {
          "output_type": "execute_result",
          "data": {
            "application/vnd.google.colaboratory.intrinsic+json": {
              "type": "string"
            },
            "text/plain": [
              "'Olá Lucas'"
            ]
          },
          "metadata": {
            "tags": []
          },
          "execution_count": 31
        }
      ]
    },
    {
      "cell_type": "code",
      "metadata": {
        "id": "Q_xO6hPTYAqq"
      },
      "source": [
        "def ola(nome, sobrenome):\n",
        "  return f'Ola {nome} {sobrenome}!'"
      ],
      "execution_count": null,
      "outputs": []
    },
    {
      "cell_type": "code",
      "metadata": {
        "id": "i5ajcw_IYU3K",
        "outputId": "7e39068c-86c2-426d-ad59-3488eda420fb",
        "colab": {
          "base_uri": "https://localhost:8080/",
          "height": 35
        }
      },
      "source": [
        "ola('Lucas', 'Arneiro')"
      ],
      "execution_count": null,
      "outputs": [
        {
          "output_type": "execute_result",
          "data": {
            "application/vnd.google.colaboratory.intrinsic+json": {
              "type": "string"
            },
            "text/plain": [
              "'Ola Lucas Arneiro!'"
            ]
          },
          "metadata": {
            "tags": []
          },
          "execution_count": 34
        }
      ]
    },
    {
      "cell_type": "code",
      "metadata": {
        "id": "8IUTsiC0YXY5"
      },
      "source": [
        "# Parametros pré-definidos\n",
        "def ola(nome, sobrenome='Arneiro', idade=26):\n",
        "  return f'Ola {nome} {sobrenome} {idade}'"
      ],
      "execution_count": null,
      "outputs": []
    },
    {
      "cell_type": "code",
      "metadata": {
        "id": "ymbdKJY8ZMMJ",
        "outputId": "5806a286-8c02-4fe7-951d-ee5313c4fd8f",
        "colab": {
          "base_uri": "https://localhost:8080/",
          "height": 35
        }
      },
      "source": [
        "ola('Lucas', idade=27)"
      ],
      "execution_count": null,
      "outputs": [
        {
          "output_type": "execute_result",
          "data": {
            "application/vnd.google.colaboratory.intrinsic+json": {
              "type": "string"
            },
            "text/plain": [
              "'Ola Lucas Arneiro 27'"
            ]
          },
          "metadata": {
            "tags": []
          },
          "execution_count": 36
        }
      ]
    },
    {
      "cell_type": "code",
      "metadata": {
        "id": "Hnl3ApuJZRh6"
      },
      "source": [
        "# Funçao que soma as parcelas a medidas que inserimos, onde * será para tuplas\n",
        "def soma(*parcelas):\n",
        "  aux = 0\n",
        "  for valor in parcelas:\n",
        "    aux += valor\n",
        "  return aux"
      ],
      "execution_count": null,
      "outputs": []
    },
    {
      "cell_type": "code",
      "metadata": {
        "id": "RMhS80D8lDOs",
        "outputId": "c3d58eaf-80b6-4c6b-8643-6efd3d6b5bdb",
        "colab": {
          "base_uri": "https://localhost:8080/",
          "height": 34
        }
      },
      "source": [
        "soma(2,4)"
      ],
      "execution_count": null,
      "outputs": [
        {
          "output_type": "execute_result",
          "data": {
            "text/plain": [
              "6"
            ]
          },
          "metadata": {
            "tags": []
          },
          "execution_count": 42
        }
      ]
    },
    {
      "cell_type": "code",
      "metadata": {
        "id": "qvDmO6yUmExf",
        "outputId": "8f505054-8225-4ad6-8337-4ca6dd024c34",
        "colab": {
          "base_uri": "https://localhost:8080/",
          "height": 34
        }
      },
      "source": [
        "soma(2, 4, 10)"
      ],
      "execution_count": null,
      "outputs": [
        {
          "output_type": "execute_result",
          "data": {
            "text/plain": [
              "16"
            ]
          },
          "metadata": {
            "tags": []
          },
          "execution_count": 43
        }
      ]
    },
    {
      "cell_type": "code",
      "metadata": {
        "id": "FaTpNzIMmMQv"
      },
      "source": [
        "# ** é um dicionario\n",
        "def f(**kwargs):\n",
        "  print(kwargs)\n"
      ],
      "execution_count": null,
      "outputs": []
    },
    {
      "cell_type": "code",
      "metadata": {
        "id": "0LmJUGPTnDF_",
        "outputId": "fb045d7b-5191-4cb7-9f22-0c95e8847aa9",
        "colab": {
          "base_uri": "https://localhost:8080/",
          "height": 34
        }
      },
      "source": [
        "f(nome='Renzo', sobrenome='Nucc')"
      ],
      "execution_count": null,
      "outputs": [
        {
          "output_type": "stream",
          "text": [
            "{'nome': 'Renzo', 'sobrenome': 'Nucc'}\n"
          ],
          "name": "stdout"
        }
      ]
    },
    {
      "cell_type": "code",
      "metadata": {
        "id": "ExKBkY8tnMOI"
      },
      "source": [
        "# Argumentos por justa posição e nomeação\n",
        "def f(*args, **kwargs):\n",
        "  print(args)\n",
        "  print(kwargs)"
      ],
      "execution_count": null,
      "outputs": []
    },
    {
      "cell_type": "code",
      "metadata": {
        "id": "T0xS6pKSnq35",
        "outputId": "f4209c20-29a2-4dda-fe93-67eda41a8ad8",
        "colab": {
          "base_uri": "https://localhost:8080/",
          "height": 51
        }
      },
      "source": [
        "f(1,2, nome='Renzo', sobrenome= 'Nutc')"
      ],
      "execution_count": null,
      "outputs": [
        {
          "output_type": "stream",
          "text": [
            "(1, 2)\n",
            "{'nome': 'Renzo', 'sobrenome': 'Nutc'}\n"
          ],
          "name": "stdout"
        }
      ]
    },
    {
      "cell_type": "markdown",
      "metadata": {
        "id": "ZdHXRTTEpTN0"
      },
      "source": [
        "======================================================================"
      ]
    },
    {
      "cell_type": "markdown",
      "metadata": {
        "id": "eT4MaA0CpWC5"
      },
      "source": [
        "8) MÓDULO\n",
        "\n",
        "Foi criado um arquivo .py com nome de 'soma', contendo a seguinte função:\n",
        "\n",
        "def soma(a, b):\n",
        "    return a + b"
      ]
    },
    {
      "cell_type": "code",
      "metadata": {
        "id": "9M6U-jb6oO2P"
      },
      "source": [
        "# Importe o arquivo .py, ou seja, sua nova biblioteca\n",
        "import soma"
      ],
      "execution_count": 1,
      "outputs": []
    },
    {
      "cell_type": "code",
      "metadata": {
        "id": "qO51cV4YTIa8",
        "outputId": "95bd9c2d-b109-4755-ea63-f69b2d38f9d2",
        "colab": {
          "base_uri": "https://localhost:8080/",
          "height": 34
        }
      },
      "source": [
        "# Depois faça print(modulo.função(parametros))\n",
        "print(soma.soma(1,2))"
      ],
      "execution_count": 2,
      "outputs": [
        {
          "output_type": "stream",
          "text": [
            "3\n"
          ],
          "name": "stdout"
        }
      ]
    },
    {
      "cell_type": "markdown",
      "metadata": {
        "id": "Y9UMeiuQ8nyU"
      },
      "source": [
        "======================================================================\n",
        "\n",
        "9) IMPORT e __ name __\n",
        "\n",
        "- Thunder + \"name\" é =  __ name __\n",
        "- Função chamada para evitar que chame algum resultado de um módulo externo. \n",
        "- No modulo \"soma\" se eu chamar, irá fazer a soma teste dentro do código, + os valores que eu chamar no código. Por isso usa:\n",
        "\n",
        "if __name __ = '__ main __':\n",
        " ...\n"
      ]
    },
    {
      "cell_type": "code",
      "metadata": {
        "id": "b2uv1c-UTobz",
        "outputId": "7276c70c-d04e-476a-a601-c818800391bc",
        "colab": {
          "base_uri": "https://localhost:8080/",
          "height": 34
        }
      },
      "source": [
        "if __name__ == '__main__':\n",
        "  print(soma.soma(1,2))"
      ],
      "execution_count": 4,
      "outputs": [
        {
          "output_type": "stream",
          "text": [
            "3\n"
          ],
          "name": "stdout"
        }
      ]
    },
    {
      "cell_type": "markdown",
      "metadata": {
        "id": "_wEyCKTbJm9U"
      },
      "source": [
        "======================================================================\n",
        "\n",
        "10) PACOTES\n",
        "\n",
        " São pastas que vc colocorá com os módulos criados. Supondo aqui, o nome do nosso pacote seja 'matemática', vejamos:\n",
        "\n",
        " - No terminal, chamariamos por: $ python -m matematica.executar_soma"
      ]
    },
    {
      "cell_type": "code",
      "metadata": {
        "id": "OI-UBmVHILfc"
      },
      "source": [
        "import matematica.soma"
      ],
      "execution_count": 5,
      "outputs": []
    },
    {
      "cell_type": "code",
      "metadata": {
        "id": "B3SgXvi_LLyh",
        "outputId": "78fe2f3c-aea6-434b-92a2-fdc1f9a2b7b0",
        "colab": {
          "base_uri": "https://localhost:8080/",
          "height": 34
        }
      },
      "source": [
        "# Para chamar: pacote.modulo.funçao\n",
        "print(matematica.soma.soma(1,2))"
      ],
      "execution_count": 6,
      "outputs": [
        {
          "output_type": "stream",
          "text": [
            "3\n"
          ],
          "name": "stdout"
        }
      ]
    },
    {
      "cell_type": "code",
      "metadata": {
        "id": "ZR0SjI1bNXDL"
      },
      "source": [
        "# OR"
      ],
      "execution_count": 7,
      "outputs": []
    },
    {
      "cell_type": "code",
      "metadata": {
        "id": "IHQh4kDeLiGe",
        "outputId": "80cd36ab-3a43-4899-b294-779fb6af2edc",
        "colab": {
          "base_uri": "https://localhost:8080/",
          "height": 34
        }
      },
      "source": [
        "from matematica import soma\n",
        "print(soma.soma(1,2))"
      ],
      "execution_count": 8,
      "outputs": [
        {
          "output_type": "stream",
          "text": [
            "3\n"
          ],
          "name": "stdout"
        }
      ]
    },
    {
      "cell_type": "code",
      "metadata": {
        "id": "gzXCJ9TINfbv",
        "outputId": "187142af-d3dc-405c-d6d5-21680f6c7fb7",
        "colab": {
          "base_uri": "https://localhost:8080/",
          "height": 34
        }
      },
      "source": [
        "# OR : from pacote.modulo import função\n",
        "from matematica.soma import soma \n",
        "print(soma(1,2))"
      ],
      "execution_count": 9,
      "outputs": [
        {
          "output_type": "stream",
          "text": [
            "3\n"
          ],
          "name": "stdout"
        }
      ]
    },
    {
      "cell_type": "code",
      "metadata": {
        "id": "fbYq9gMSN71b",
        "outputId": "75630daf-7423-4b1a-ea37-c2711c67ffc7",
        "colab": {
          "base_uri": "https://localhost:8080/",
          "height": 34
        }
      },
      "source": [
        "# OR: Apelidando com 'as'\n",
        "from matematica.soma import soma as s\n",
        "print(s(1,2))"
      ],
      "execution_count": 11,
      "outputs": [
        {
          "output_type": "stream",
          "text": [
            "3\n"
          ],
          "name": "stdout"
        }
      ]
    },
    {
      "cell_type": "markdown",
      "metadata": {
        "id": "1J8a03YBOzv0"
      },
      "source": [
        "======================================================================\n",
        "\n",
        "11) DOCSTRING\n",
        "\n",
        "Representado pelas \"\"\" \"\"\" 3x aspas com abre e fecha. São comentários e explicações do código.\n",
        "\n",
        "- No terminal posso chamar o docstring da função por: pacote.modulo__doc__"
      ]
    },
    {
      "cell_type": "code",
      "metadata": {
        "id": "xkR3uvdROTTC",
        "outputId": "45fe8809-6dc7-49c8-e6ed-8c67d0778db2",
        "colab": {
          "base_uri": "https://localhost:8080/",
          "height": 35
        }
      },
      "source": [
        "# Este docstring deve ser escrito no código, ou modulo .py\n",
        "\"\"\"\n",
        "Esta função faz...\n",
        "\n",
        ":param a: ...\n",
        ":param b: ...\n",
        ":return: ...\n",
        "\n",
        "\"\"\"\n",
        "\n",
        "# ... = Explicação dos parametros e do return"
      ],
      "execution_count": 12,
      "outputs": [
        {
          "output_type": "execute_result",
          "data": {
            "application/vnd.google.colaboratory.intrinsic+json": {
              "type": "string"
            },
            "text/plain": [
              "'\\nEsta função faz...\\n\\n:param a: ...\\n:param b: ...\\n:return: ...\\n\\n'"
            ]
          },
          "metadata": {
            "tags": []
          },
          "execution_count": 12
        }
      ]
    },
    {
      "cell_type": "code",
      "metadata": {
        "id": "_HyOOPWcRy5I"
      },
      "source": [
        ""
      ],
      "execution_count": null,
      "outputs": []
    }
  ]
}