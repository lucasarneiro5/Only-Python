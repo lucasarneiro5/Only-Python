{
 "cells": [
  {
   "cell_type": "code",
   "execution_count": 1,
   "metadata": {},
   "outputs": [
    {
     "name": "stdout",
     "output_type": "stream",
     "text": [
      "Lendo o documento...\n",
      "Ok!\n",
      "Número de linhas:\n",
      "1551506\n",
      "Linha 0: \n",
      "['Start Time', 'End Time', 'Trip Duration', 'Start Station', 'End Station', 'User Type', 'Gender', 'Birth Year']\n",
      "Linha 1: \n",
      "['2017-01-01 00:00:36', '2017-01-01 00:06:32', '356', 'Canal St & Taylor St', 'Canal St & Monroe St (*)', 'Customer', '', '']\n"
     ]
    }
   ],
   "source": [
    "'''\n",
    "PROJECT 1: \"Chicago BikeShare\" from Artifical Intelligence for Trading – NanoDegree - Udacity.\n",
    "@uthor: Lucas Arneiro Vieira\n",
    "Date: February, 10/2019 to March, 10/2019\n",
    "'''\n",
    "\n",
    "import csv\n",
    "import matplotlib.pyplot as plt\n",
    "\n",
    "# Vamos ler os dados como uma lista\n",
    "print(\"Lendo o documento...\")\n",
    "with open(\"chicago.csv\", \"r\") as file_read:\n",
    "    reader = csv.reader(file_read)\n",
    "    data_list = list(reader)\n",
    "print(\"Ok!\")\n",
    "\n",
    "# Vamos verificar quantas linhas nós temos\n",
    "print(\"Número de linhas:\")\n",
    "print(len(data_list))\n",
    "\n",
    "# Imprimindo a primeira linha de data_list para verificar se funcionou.\n",
    "print(\"Linha 0: \")\n",
    "print(data_list[0])\n",
    "# É o cabeçalho dos dados, para que possamos identificar as colunas.\n",
    "\n",
    "# Imprimindo a segunda linha de data_list, ela deveria conter alguns dados\n",
    "print(\"Linha 1: \")\n",
    "print(data_list[1])"
   ]
  },
  {
   "cell_type": "code",
   "execution_count": 2,
   "metadata": {},
   "outputs": [
    {
     "name": "stdout",
     "output_type": "stream",
     "text": [
      "Aperte Enter para continuar...\n",
      "\n",
      "\n",
      "TAREFA 1: Imprimindo as primeiras 20 amostras: \n",
      "\n",
      "['2017-01-01 00:00:36', '2017-01-01 00:06:32', '356', 'Canal St & Taylor St', 'Canal St & Monroe St (*)', 'Customer', '', '']\n",
      "['2017-01-01 00:02:54', '2017-01-01 00:08:21', '327', 'Larrabee St & Menomonee St', 'Sheffield Ave & Kingsbury St', 'Subscriber', 'Male', '1984.0']\n",
      "['2017-01-01 00:06:06', '2017-01-01 00:18:31', '745', 'Orleans St & Chestnut St (NEXT Apts)', 'Ashland Ave & Blackhawk St', 'Subscriber', 'Male', '1985.0']\n",
      "['2017-01-01 00:07:28', '2017-01-01 00:12:51', '323', 'Franklin St & Monroe St', 'Clinton St & Tilden St', 'Subscriber', 'Male', '1990.0']\n",
      "['2017-01-01 00:07:57', '2017-01-01 00:20:53', '776', 'Broadway & Barry Ave', 'Sedgwick St & North Ave', 'Subscriber', 'Male', '1990.0']\n",
      "['2017-01-01 00:10:44', '2017-01-01 00:21:27', '643', 'State St & Kinzie St', 'Wells St & Polk St', 'Subscriber', 'Male', '1970.0']\n",
      "['2017-01-01 00:11:34', '2017-01-01 00:23:47', '733', 'Wabash Ave & Wacker Pl', 'Clinton St & Tilden St', 'Subscriber', 'Male', '1986.0']\n",
      "['2017-01-01 00:14:57', '2017-01-01 00:26:22', '685', 'Daley Center Plaza', 'Canal St & Monroe St (*)', 'Customer', '', '']\n",
      "['2017-01-01 00:15:03', '2017-01-01 00:26:28', '685', 'Daley Center Plaza', 'Canal St & Monroe St (*)', 'Customer', '', '']\n",
      "['2017-01-01 00:17:01', '2017-01-01 00:29:49', '768', 'Dayton St & North Ave', 'Ogden Ave & Chicago Ave', 'Customer', '', '']\n",
      "['2017-01-01 00:17:13', '2017-01-01 11:03:34', '38781', 'Wilton Ave & Diversey Pkwy', 'Halsted St & Wrightwood Ave', 'Subscriber', 'Female', '1988.0']\n",
      "['2017-01-01 00:18:28', '2017-01-01 00:31:05', '757', 'Canal St & Madison St', 'LaSalle St & Illinois St', 'Customer', '', '']\n",
      "['2017-01-01 00:18:50', '2017-01-01 00:21:47', '177', 'Theater on the Lake', 'Lakeview Ave & Fullerton Pkwy', 'Subscriber', 'Male', '1991.0']\n",
      "['2017-01-01 00:23:41', '2017-01-01 00:29:13', '332', 'Halsted St & Maxwell St', 'Halsted St & 18th St', 'Subscriber', 'Male', '1984.0']\n",
      "['2017-01-01 00:25:47', '2017-01-01 00:39:53', '846', 'Ravenswood Ave & Lawrence Ave', 'Clarendon Ave & Gordon Ter', 'Subscriber', 'Female', '1987.0']\n",
      "['2017-01-01 00:25:47', '2017-01-01 00:43:23', '1056', 'Clark St & Congress Pkwy', 'Wolcott Ave & Polk St', 'Subscriber', 'Male', '1984.0']\n",
      "['2017-01-01 00:26:21', '2017-01-01 00:39:40', '799', 'Ravenswood Ave & Lawrence Ave', 'Clarendon Ave & Gordon Ter', 'Subscriber', 'Male', '1987.0']\n",
      "['2017-01-01 00:27:21', '2017-01-01 00:42:59', '938', 'Millennium Park', 'Michigan Ave & 18th St', 'Subscriber', 'Male', '1991.0']\n",
      "['2017-01-01 00:27:28', '2017-01-01 00:42:44', '916', 'Millennium Park', 'Michigan Ave & 18th St', 'Subscriber', 'Female', '1990.0']\n",
      "['2017-01-01 00:27:45', '2017-01-01 00:31:13', '208', 'Damen Ave & Chicago Ave', 'Damen Ave & Division St', 'Subscriber', 'Male', '1982.0']\n"
     ]
    }
   ],
   "source": [
    "# TAREFA 1\n",
    "input(\"Aperte Enter para continuar...\")\n",
    "# Imprime as primeiras 20 linhas usando um loop para identificar os dados.\n",
    "\n",
    "print(\"\\n\\nTAREFA 1: Imprimindo as primeiras 20 amostras: \\n\")\n",
    "\n",
    "for row in range(1, 21):\n",
    "    print (data_list[row]) \n",
    "    '''Imprimir as 20 primeiras linhas da lista \"data_list\"'''\n",
    "\n",
    "#------------------------------------------------------------\n",
    "    # Vamos mudar o data_list para remover o cabeçalho dele.\n",
    "data_list = data_list[1:]"
   ]
  },
  {
   "cell_type": "code",
   "execution_count": 3,
   "metadata": {},
   "outputs": [
    {
     "name": "stdout",
     "output_type": "stream",
     "text": [
      "Aperte Enter para continuar...\n",
      "\n",
      "TAREFA 2: Imprimindo o gênero das primeiras 20 amostras: \n",
      "\n",
      "\n",
      "Male\n",
      "Male\n",
      "Male\n",
      "Male\n",
      "Male\n",
      "Male\n",
      "\n",
      "\n",
      "\n",
      "Female\n",
      "\n",
      "Male\n",
      "Male\n",
      "Female\n",
      "Male\n",
      "Male\n",
      "Male\n",
      "Female\n",
      "Male\n",
      "Female\n"
     ]
    }
   ],
   "source": [
    "# TAREFA 2\n",
    "input(\"Aperte Enter para continuar...\")\n",
    "# Imprime o gênero das primeiras 20 linhas.'''\n",
    "\n",
    "print(\"\\nTAREFA 2: Imprimindo o gênero das primeiras 20 amostras: \\n\")\n",
    "\n",
    "for i in range(21):\n",
    "    print(data_list[i][6]) # Varre-se as linhas da coluna 6 (Gênero)"
   ]
  },
  {
   "cell_type": "code",
   "execution_count": 4,
   "metadata": {},
   "outputs": [
    {
     "name": "stdout",
     "output_type": "stream",
     "text": [
      "Aperte Enter para continuar...\n",
      "\n",
      "TAREFA 3: Imprimindo a lista de gêneros das primeiras 20 amostras: \n",
      "\n",
      "['', 'Male', 'Male', 'Male', 'Male', 'Male', 'Male', '', '', '', 'Female', '', 'Male', 'Male', 'Female', 'Male', 'Male', 'Male', 'Female', 'Male']\n"
     ]
    }
   ],
   "source": [
    "# TAREFA 3\n",
    "input(\"Aperte Enter para continuar...\")\n",
    "# Função para adicionar as colunas(features) de uma lista em outra lista, na mesma ordem.\n",
    "\n",
    "def column_to_list(data, index):\n",
    "    column_list = []\n",
    "    for data in range(len(data_list)): \n",
    "        column_list.append(data_list[data][index])\n",
    "    \n",
    "    return column_list\n",
    "\n",
    "    '''\n",
    "    Função column_to_list\n",
    "    -Argumentos:\n",
    "       data = len(data_list) = linhas da matriz.\n",
    "       index = posição da coluna da matriz.\n",
    "       index = -2 # Posião fixa da coluna \"Gender\", pode ser a posição 6.\n",
    "    -Retorna:\n",
    "        Gera a coluna de qualquer elemento da lista \"data_list\"\n",
    "    '''\n",
    "\n",
    "# Vamos checar com os gêneros se isso está funcionando (apenas para os primeiros 20)\n",
    "print(\"\\nTAREFA 3: Imprimindo a lista de gêneros das primeiras 20 amostras: \\n\")\n",
    "print(column_to_list(data_list, -2)[:20])\n",
    "\n",
    "# ------------ NÃO MUDE NENHUM CÓDIGO AQUI ------------\n",
    "assert type(column_to_list(data_list, -2)) is list, \"TAREFA 3: Tipo incorreto retornado. Deveria ser uma lista.\"\n",
    "assert len(column_to_list(data_list, -2)) == 1551505, \"TAREFA 3: Tamanho incorreto retornado.\"\n",
    "assert column_to_list(data_list, -2)[0] == \"\" and column_to_list(data_list, -2)[1] == \"Male\", \"TAREFA 3: A lista não coincide.\"\n",
    "# -----------------------------------------------------"
   ]
  },
  {
   "cell_type": "code",
   "execution_count": 9,
   "metadata": {},
   "outputs": [
    {
     "name": "stdout",
     "output_type": "stream",
     "text": [
      "Aperte Enter para continuar...\n",
      "\n",
      "TAREFA 4: Imprimindo quantos masculinos e femininos nós encontramos: \n",
      "\n",
      "Masculinos:  935854 \n",
      "Femininos:  298784\n"
     ]
    }
   ],
   "source": [
    "# TAREFA 4\n",
    "input(\"Aperte Enter para continuar...\")\n",
    "# Conte cada gênero: Iniciam-se zeradas, de modo a evitar erros \n",
    "\n",
    "male = 0\n",
    "female = 0\n",
    "\n",
    "for contagem in column_to_list(data_list, -2):\n",
    "\n",
    "#Considerendo todos os elementos, linhas, da coluna 'Gender', ou -2, ou 6.\n",
    "#contagem = Variavel pivô, varrendo o laço \"for\" \n",
    "\n",
    "    if (contagem == 'Male'):\n",
    "            male += 1\n",
    "    elif (contagem == 'Female'):\n",
    "            female += 1\n",
    "\n",
    "# Verificando o resultado\n",
    "print(\"\\nTAREFA 4: Imprimindo quantos masculinos e femininos nós encontramos: \\n\")\n",
    "print(\"Masculinos: \", male, \"\\nFemininos: \", female)\n",
    "\n",
    "# ------------ NÃO MUDE NENHUM CÓDIGO AQUI ------------\n",
    "assert male == 935854 and female == 298784, \"TAREFA 4: A conta não bate.\"\n",
    "# -----------------------------------------------------"
   ]
  },
  {
   "cell_type": "code",
   "execution_count": 30,
   "metadata": {},
   "outputs": [
    {
     "name": "stdout",
     "output_type": "stream",
     "text": [
      "Aperte Enter para continuar...\n",
      "\n",
      "TAREFA 5: Imprimindo o resultado de count_gender: \n",
      "\n",
      "[935854, 298784]\n"
     ]
    }
   ],
   "source": [
    "# TAREFA 5\n",
    "input(\"Aperte Enter para continuar...\")\n",
    "# Função para contar os gêneros. Retorna uma lista.\n",
    "\n",
    "def count_gender(data_list):\n",
    "    male = 0\n",
    "    female = 0\n",
    "    male = column_to_list(len(data_list), -2).count('Male') \n",
    "    female = column_to_list(len(data_list), -2).count('Female')\n",
    "    \n",
    "    return [male, female]\n",
    "\n",
    "'''\n",
    "Função count_gender para contar o numero presente de cada Genero\n",
    "-Argumentos:\n",
    "   counter = Variavel pivô, varrendo o laço \"for\"\n",
    "   male = Valor do numero de \"Male\".\n",
    "   female = Valor do numero de \"Female\"\n",
    "-Retorna:\n",
    "    Número de vezes que um termo repete dentro da lista\n",
    "'''\n",
    "\n",
    "print(\"\\nTAREFA 5: Imprimindo o resultado de count_gender: \\n\")\n",
    "print(count_gender(data_list))\n",
    "\n",
    "# ------------ NÃO MUDE NENHUM CÓDIGO AQUI ------------\n",
    "assert type(count_gender(data_list)) is list, \"TAREFA 5: Tipo incorreto retornado. Deveria retornar uma lista.\"\n",
    "assert len(count_gender(data_list)) == 2, \"TAREFA 5: Tamanho incorreto retornado.\"\n",
    "assert count_gender(data_list)[0] == 935854 and count_gender(data_list)[1] == 298784, \"TAREFA 5: Resultado incorreto no retorno!\"\n",
    "# -----------------------------------------------------"
   ]
  },
  {
   "cell_type": "code",
   "execution_count": 32,
   "metadata": {},
   "outputs": [
    {
     "name": "stdout",
     "output_type": "stream",
     "text": [
      "Aperte Enter para continuar...\n",
      "\n",
      "TAREFA 6: Qual é o gênero mais popular na lista?\n",
      "O gênero mais popular na lista é:  Male\n"
     ]
    }
   ],
   "source": [
    "# TAREFA 6\n",
    "input(\"Aperte Enter para continuar...\")\n",
    "\n",
    "def most_popular_gender(data_list):\n",
    "    answer = \"\"\n",
    "    \n",
    "    [count_male, count_female] = count_gender(data_list) \n",
    "    '''Chama a função que já faz a contagem de gêneros, armazenar os resultados em duas variáveis e utilizá-las em seu código.'''\n",
    "    \n",
    "    if count_male > count_female:\n",
    "        answer = \"Male\"\n",
    "    elif count_female > count_male:\n",
    "        answer = \"Female\"\n",
    "    else:\n",
    "        answer = \"Equal\"\n",
    "        \n",
    "    return answer\n",
    "\n",
    "'''\n",
    "Função most_popular_gender: Determina o gênero mais popular, que aparece com maior frequência, na coluna gender.\n",
    "-Argumentos:\n",
    "   count_male = Variavel chamada, responsável por receber a quantidade de \"Male\" na count_gender\n",
    "   count_female = Variavel chamada, responsável por receber a quantidade de \"Female\" na count_gender\n",
    "   answer = Resposta final\n",
    "-Retorna:\n",
    "    Elemento que aparece com maior frequência na coluna gender.\n",
    "'''\n",
    "\n",
    "print(\"\\nTAREFA 6: Qual é o gênero mais popular na lista?\")\n",
    "print(\"O gênero mais popular na lista é: \", most_popular_gender(data_list))\n",
    "\n",
    "# ------------ NÃO MUDE NENHUM CÓDIGO AQUI ------------\n",
    "assert type(most_popular_gender(data_list)) is str, \"TAREFA 6: Tipo incorreto no retorno. Deveria retornar uma string.\"\n",
    "assert most_popular_gender(data_list) == \"Male\", \"TAREFA 6: Resultado de retorno incorreto!\"\n",
    "# -----------------------------------------------------"
   ]
  },
  {
   "cell_type": "code",
   "execution_count": 33,
   "metadata": {},
   "outputs": [
    {
     "data": {
      "image/png": "[encoded data removed]",
      "text/plain": [
       "<Figure size 432x288 with 1 Axes>"
      ]
     },
     "metadata": {
      "needs_background": "light"
     },
     "output_type": "display_data"
    }
   ],
   "source": [
    "'''Criando gráfico para exibir valores de Gender, Male e Female, neste caso!'''\n",
    "gender_list = column_to_list(data_list, -2)\n",
    "types = [\"Male\", \"Female\"]\n",
    "quantity = count_gender(data_list)\n",
    "y_pos = list(range(len(types)))\n",
    "plt.bar(y_pos, quantity)\n",
    "plt.ylabel('Quantidade')\n",
    "plt.xlabel('Gênero')\n",
    "plt.xticks(y_pos, types)\n",
    "plt.title('Quantidade por Gênero')\n",
    "plt.show(block=True)"
   ]
  },
  {
   "cell_type": "code",
   "execution_count": 34,
   "metadata": {},
   "outputs": [
    {
     "name": "stdout",
     "output_type": "stream",
     "text": [
      "Aperte Enter para continuar...\n",
      "['Customer', 'Subscriber', 'Subscriber', 'Subscriber', 'Subscriber', 'Subscriber', 'Subscriber', 'Customer', 'Customer', 'Customer', 'Subscriber', 'Customer', 'Subscriber', 'Subscriber', 'Subscriber', 'Subscriber', 'Subscriber', 'Subscriber', 'Subscriber', 'Subscriber']\n",
      "\n",
      " [317162, 1234339]\n",
      "\n",
      "TAREFA 7: Verifique o gráfico! \n",
      "\n"
     ]
    },
    {
     "data": {
      "image/png": "[encoded data removed]",
      "text/plain": [
       "<Figure size 432x288 with 1 Axes>"
      ]
     },
     "metadata": {
      "needs_background": "light"
     },
     "output_type": "display_data"
    }
   ],
   "source": [
    "# TAREFA 7\n",
    "input(\"Aperte Enter para continuar...\")\n",
    "    \n",
    "# ================================== Gráfico similar ao de cima para user_types.========================================='''\n",
    "\n",
    "# 1ª) CRIAR UMA LISTA COM \"user_types\": \n",
    "\n",
    "def usertypes_lista(line, coluna):\n",
    "    user_list = []\n",
    "    coluna = -3 \n",
    "    \n",
    "    for line in range(len(data_list)): \n",
    "        user_list.append(data_list[line][coluna])\n",
    "    \n",
    "    return user_list\n",
    "\n",
    "    '''\n",
    "    Função para lista dos \"user_types \n",
    "    -Argumentos:    \n",
    "       user_list = lista vazia de usuários.\n",
    "       coluna = posição da coluna \"user_types\"\n",
    "       Laço \"for\" varre as linhas na coluna[-3 ou 5] e adiciona em \"user_list\" com .append.\n",
    "    -Retorna:\n",
    "        A lista \"user_list\"\n",
    "    '''\n",
    "\n",
    "print(usertypes_lista(data_list, -3)[:20]) \n",
    "'''Teste de verificação, exibindo os primeiros 20 primeiros valores.'''\n",
    "\n",
    "\n",
    "# 2ª) CRIAR UMA FUNÇÃO COM \"user_types\", para contar o número de \"Customers\" e Subscribers: \n",
    "\n",
    "def count_types(data_list):\n",
    "    custom = 0\n",
    "    subsc = 0\n",
    "    custom = usertypes_lista(len(data_list), -3).count('Customer') \n",
    "    subsc = usertypes_lista(len(data_list), -3).count('Subscriber') \n",
    "    \n",
    "    return [custom, subsc]\n",
    "\n",
    "'''\n",
    "    Função para lista dos \"count_types\n",
    "    -Argumentos:\n",
    "       Utiliza-se .count para contar o número de vezes que um termo repete dentro da lista.\n",
    "       custom = numero de consumidores\n",
    "       subsc = numero de inscritos\n",
    "    -Retorna:\n",
    "         Numero de consumidores e inscritos\n",
    "    '''\n",
    "\n",
    "print(\"\\n\", count_types(data_list))\n",
    "\n",
    "\n",
    "# 3ª) CRIAR UM GRÁFICO COM \"user_types\": \n",
    "\n",
    "print(\"\\nTAREFA 7: Verifique o gráfico! \\n\")\n",
    "types_list = usertypes_lista(data_list, -3)\n",
    "tipo = [\"Customer\", \"Subscriber\"]\n",
    "quantidade = count_types(data_list)\n",
    "y_pos = list(range(len(tipo)))\n",
    "plt.bar(y_pos, quantidade)\n",
    "plt.ylabel('Quantidade')\n",
    "plt.xlabel('Usuário')\n",
    "plt.xticks(y_pos, tipo)\n",
    "plt.title('Quantidade por Usuários')\n",
    "plt.show(block=True)"
   ]
  },
  {
   "cell_type": "code",
   "execution_count": 35,
   "metadata": {
    "scrolled": true
   },
   "outputs": [
    {
     "name": "stdout",
     "output_type": "stream",
     "text": [
      "Aperte Enter para continuar...\n",
      "\n",
      "TAREFA 8: Por que a condição a seguir é Falsa? \n",
      "\n",
      "male + female == len(data_list): False\n",
      "\n",
      "-Resposta: \n",
      "\n",
      " Considerando a lista da base de dados em 'chicado.csv', referente ao projeto Chicago BikeShare, temos que os dados  da coluna 'Gender', ou 'Gênero' não foi preenchida por todos os 1551506 usuários cadastrados. Com isso, a soma de Gêneros dos  sexo, Masculino e Feminino, não serão iguais ao número total de cadastros realizados.\n"
     ]
    }
   ],
   "source": [
    "# TAREFA 8\n",
    "input(\"Aperte Enter para continuar...\")\n",
    "\n",
    "male, female = count_gender(data_list)\n",
    "print(\"\\nTAREFA 8: Por que a condição a seguir é Falsa? \\n\")\n",
    "print(\"male + female == len(data_list):\", male + female == len(data_list))\n",
    "answer = \"Considerando a lista da base de dados em 'chicado.csv', referente ao projeto Chicago BikeShare, temos que os dados  da coluna 'Gender', ou 'Gênero' não foi preenchida por todos os 1551506 usuários cadastrados. Com isso, a soma de Gêneros dos  sexo, Masculino e Feminino, não serão iguais ao número total de cadastros realizados.\"\n",
    "\n",
    "\n",
    "print (\"\\n-Resposta: \\n\\n\", answer)\n",
    "\n",
    "# ------------ NÃO MUDE NENHUM CÓDIGO AQUI ------------\n",
    "assert answer != \"Escreva sua resposta aqui.\", \"TAREFA 8: Escreva sua própria resposta!\"\n",
    "# -----------------------------------------------------"
   ]
  },
  {
   "cell_type": "code",
   "execution_count": 37,
   "metadata": {
    "scrolled": true
   },
   "outputs": [
    {
     "name": "stdout",
     "output_type": "stream",
     "text": [
      "Aperte Enter para continuar...\n",
      "\n",
      "TAREFA 9: Imprimindo o mínimo, máximo, média, e mediana\n",
      "Min:  60 Max:  86338 Média:  940 Mediana:  670.0\n"
     ]
    }
   ],
   "source": [
    "# TAREFA 9\n",
    "input(\"Aperte Enter para continuar...\")\n",
    "\n",
    "'''Ache a duração de viagem Mínima, Máxima, Média, e Mediana.'''\n",
    "\n",
    "trip_duration_list = column_to_list(data_list, 2)\n",
    "min_trip = 0.\n",
    "max_trip = 0.\n",
    "mean_trip = 0.\n",
    "median_trip = 0.\n",
    "size = 0 # Arredondamento da metade do tamanho ou do número de elementos da lista: trip_duration_inteiros\n",
    "\n",
    "trip_duration_inteiros = list(map(int, trip_duration_list)) #\n",
    "'''CONVERTER E CRIAR UMA LISTA COM \"trip_duration_inteiros\".'''\n",
    "\n",
    "trip_duration_inteiros.sort() \n",
    "'''Orgazinar a lista de forma crescente'''\n",
    "\n",
    "min_trip = trip_duration_inteiros[0]\n",
    "'''Considerando a lista em ordem crescente, pegamos o primeiro valor, sendo o menor valor'''\n",
    "#print('\\nDuracao minima da viagem = {} unidades de tempo'.format(min_trip))\n",
    "\n",
    "max_trip = trip_duration_inteiros[len(trip_duration_inteiros) - 1]\n",
    "'''Considerando a lista em ordem crescente, pegamos o ultimo valor, sendo o maior valor'''\n",
    "#print('\\nDuracao maxima da viagem = {} unidades de tempo'.format(max_trip))\n",
    "\n",
    "mean_trip = round(sum(trip_duration_inteiros) / len(trip_duration_inteiros))                                      \n",
    "'''Soma-se todos os elementos da lista e divide-se pelo numero totais de elementos. round() = arredonda valores'''\n",
    "#print('\\nDuracao media das viagens = {} unidades de tempo'.format(mean_trip))\n",
    "\n",
    "size = round(len(trip_duration_inteiros)/2)\n",
    "if (size % 2 == 0):\n",
    "    median_trip = (trip_duration_inteiros[size + 1] + trip_duration_inteiros[size + 2])/2\n",
    "else:\n",
    "    median_trip = trip_duration_inteiros[size + 1]    \n",
    "'''\n",
    "Pegamos metade do tamanho da lista para identificar sua respectiva posição. \n",
    "Caso seja um numero par, temos o elemento como uma media de: A posição media + 1 + posição media + 2.\n",
    "Caso seja impar, temos o elemento na utima posição + 1, respectivamente, ao valor médio de elementos da lista.\n",
    "'''\n",
    "\n",
    "print(\"\\nTAREFA 9: Imprimindo o mínimo, máximo, média, e mediana\")\n",
    "print(\"Min: \", min_trip, \"Max: \", max_trip, \"Média: \", mean_trip, \"Mediana: \", median_trip)\n",
    "\n",
    "# ------------ NÃO MUDE NENHUM CÓDIGO AQUI ------------\n",
    "assert round(min_trip) == 60, \"TAREFA 9: min_trip com resultado errado!\"\n",
    "assert round(max_trip) == 86338, \"TAREFA 9: max_trip com resultado errado!\"\n",
    "assert round(mean_trip) == 940, \"TAREFA 9: mean_trip com resultado errado!\"\n",
    "assert round(median_trip) == 670, \"TAREFA 9: median_trip com resultado errado!\"\n",
    "# -----------------------------------------------------"
   ]
  },
  {
   "cell_type": "code",
   "execution_count": 38,
   "metadata": {},
   "outputs": [
    {
     "name": "stdout",
     "output_type": "stream",
     "text": [
      "Aperte Enter para continuar...\n",
      "\n",
      "TAREFA 10: Imprimindo as start stations: \n",
      "\n",
      "\n",
      "Numero de elementos em \"start_stations\":  582\n",
      "\n",
      " {'Racine Ave & Fullerton Ave', 'Cottage Grove Ave & 67th St', 'Clark St & Lunt Ave', 'Wabash Ave & 8th St', 'Clark St & Elmdale Ave', 'Southport Ave & Belmont Ave', 'Racine Ave & 61st St', 'Western Ave & Lunt Ave', 'Jeffery Blvd & 71st St', 'Morgan Ave & 14th Pl', 'Jefferson St & Monroe St', 'Ridge Blvd & Touhy Ave', 'Halsted St & 51st St', 'Michigan Ave & Pearson St', 'Pulaski Rd & Congress Pkwy', 'Seeley Ave & Roscoe St', 'Halsted St & Roscoe St', 'Cuyler Ave & Augusta St', 'Greenview Ave & Diversey Pkwy', 'Central Ave & Chicago Ave', 'Ashland Ave & Lake St', 'Oak Park Ave & South Blvd', 'Kimball Ave & Belmont Ave', 'LaSalle St & Illinois St', 'Halsted St & 63rd St', 'Drake Ave & Montrose Ave', 'Wacker Dr & Washington St', 'LaSalle St & Jackson Blvd', 'Ravenswood Ave & Montrose Ave (*)', 'Broadway & Argyle St', 'Commercial Ave & 83rd St', 'Leavitt St & Archer Ave', 'Conservatory Dr & Lake St', 'Halsted St & 37th St', 'Dearborn St & Adams St', 'Bennett Ave & 79th St', 'Kenton Ave & Madison St', 'Morgan St & 18th St', 'Sedgwick St & Schiller St', 'McClurg Ct & Illinois St', 'Western Ave & Monroe St', 'Ellis Ave & 58th St', 'Clark St & Touhy Ave', 'Ravenswood Ave & Berteau Ave', 'Lake Shore Dr & Diversey Pkwy', 'Kilbourn Ave & Milwaukee Ave', 'Halsted St & Archer Ave', 'Broadway & Granville Ave', 'Desplaines St & Randolph St', 'California Ave & Montrose Ave', 'Ashland Ave & Belle Plaine Ave', 'Clinton St & Tilden St', 'Damen Ave & Chicago Ave', 'Halsted St & Wrightwood Ave', 'University Ave & 57th St', 'Mies van der Rohe Way & Chicago Ave', 'Sheffield Ave & Wellington Ave', 'Ashland Ave & Harrison St', 'Stony Island Ave & 82nd St', 'Racine Ave & Belmont Ave', 'Damen Ave & Pierce Ave', 'Dodge Ave & Church St', 'Wabash Ave & Wacker Pl', 'Kedzie Ave & Chicago Ave', 'Broadway & Wilson Ave', 'Wells St & Concord Ln', 'Wentworth Ave & Archer Ave', 'Albany Ave & Bloomingdale Ave', 'Financial Pl & Congress Pkwy', 'Woodlawn Ave & 55th St', 'Clinton St & Madison St', 'Blue Island Ave & 18th St', 'Calumet Ave & 51st St', 'Kedzie Ave & Lake St', 'Halsted St & Dickens Ave', 'Campbell Ave & Fullerton Ave', 'Valli Produce - Evanston Plaza', 'Wood St & Division St', 'Ashland Ave & 13th St', 'Eckhart Park', 'Spaulding Ave & Division St', 'Museum of Science and Industry', 'Broadway & Sheridan Rd', 'Larrabee St & Division St', 'Halsted St & Polk St', 'Stockton Dr & Wrightwood Ave', 'State St & 76th St', 'Western Ave & Howard St', 'Michigan Ave & Madison St', 'Ogden Ave & Chicago Ave', 'Southport Ave & Clybourn Ave', 'Michigan Ave & Lake St', 'Millard Ave & 26th St', 'Seeley Ave & Garfield Blvd', 'Perry Ave & 69th St', 'Richmond St & Diversey Ave', 'Cannon Dr & Fullerton Ave', 'Cottage Grove Ave & 63rd St', 'Morgan St & 31st St', 'Indiana Ave & 26th St', 'Leavitt St & North Ave', 'Ashland Ave & Chicago Ave', 'Blackstone Ave & Hyde Park Blvd', 'Stony Island Ave & 67th St', 'Fort Dearborn Dr & 31st St', 'Princeton Ave & 47th St', 'Shields Ave & 43rd St', 'East Ave & Garfield St', 'Stony Island Ave & South Chicago Ave', 'Peoria St & Jackson Blvd', 'Winchester Ave & Elston Ave', 'Wells St & 19th St', 'Clark St & Winnemac Ave', 'Kingsbury St & Kinzie St', '2112 W Peterson Ave', 'Avers Ave & Belmont Ave', 'Sacramento Blvd & Franklin Blvd', 'Harper Ave & 59th St', 'Orleans St & Merchandise Mart Plaza', 'Michigan Ave & 14th St', 'State St & Pershing Rd', 'Clark St & Schiller St', 'Kedzie Ave & Harrison St', 'Kostner Ave & Lake St', 'Francisco Ave & Foster Ave', 'Lake Park Ave & 47th St', 'South Chicago Ave & 83rd St', 'McCormick Place', 'East Ave & Madison St', 'Larrabee St & Oak St', 'Clark St & Wellington Ave', 'Broadway & Waveland Ave', 'Damen Ave & Cortland St', 'Bissell St & Armitage Ave', 'State St & 29th St', 'Racine Ave & 65th St', 'Jeffery Blvd & 67th St', 'Lakefront Trail & Bryn Mawr Ave', 'Stave St & Armitage Ave', 'Greenview Ave & Fullerton Ave', 'State St & Pearson St', 'Ada St & Washington Blvd', 'Clark St & Chicago Ave', 'Ashland Ave & Pershing Rd', 'Pulaski Rd & Eddy St', 'Cicero Ave & Lake St', 'Ravenswood Ave & Lawrence Ave', 'Wilton Ave & Belmont Ave', 'Evans Ave & 75th St', 'Kilbourn Ave & Irving Park Rd', 'Ashland Ave & 66th St', 'Ogden Ave & Congress Pkwy', 'Ashland Ave & Division St', 'California Ave & North Ave', 'Wabash Ave & 16th St', 'Western Ave & Division St', 'Broadway & Ridge Ave', 'Marshfield Ave & 44th St', 'Indiana Ave & Roosevelt Rd', 'Western Ave & 28th St', 'Glenwood Ave & Touhy Ave', 'Talman Ave & Addison St', 'Field Blvd & South Water St', 'Damen Ave & Sunnyside Ave', 'Franklin St & Lake St', 'Wentworth Ave & 24th St', 'Sheffield Ave & Kingsbury St', 'May St & Cullerton St', 'Millennium Park', 'Knox Ave & Montrose Ave', 'Western Ave & Granville Ave', 'Oakley Ave & Touhy Ave', 'LaSalle St & Washington St', 'Shields Ave & 28th Pl', 'Cornell Ave & Hyde Park Blvd', 'MLK Jr Dr & 83rd St', 'Orleans St & Ohio St', 'Halsted St & Roosevelt Rd', 'Wilton Ave & Diversey Pkwy', 'Dearborn St & Monroe St', 'Clark St & Elm St', 'Wood St & 35th St', 'Saginaw Ave & Exchange Ave', 'Damen Ave & Augusta Blvd', 'Lincoln Ave & Fullerton Ave', 'Oakley Ave & Roscoe St', 'Canal St & Harrison St', 'Laramie Ave & Kinzie St', 'Ravenswood Ave & Balmoral Ave', 'Adler Planetarium', 'Southport Ave & Waveland Ave', 'Lake Park Ave & 53rd St', 'Paulina St & 18th St', 'Lincoln Ave & Winona St', 'Racine Ave & 18th St', 'Kedzie Ave & Foster Ave', 'Prairie Ave & Garfield Blvd', 'Central St Metra', 'State St & 33rd St', 'Broadway & Barry Ave', 'Kingsbury St & Erie St', 'Clarendon Ave & Leland Ave', 'Damen Ave & Madison St', 'Greenwood Ave & 79th St', 'Pine Grove Ave & Irving Park Rd', 'Wells St & Elm St', 'Larrabee St & Kingsbury St', 'Exchange Ave & 79th St', 'Clinton St & Jackson Blvd', 'Michigan Ave & Congress Pkwy', 'Milwaukee Ave & Cuyler Ave', 'Western Blvd & 48th Pl', 'Western Ave & Walton St', 'Damen Ave & 59th St', 'Clark St & Jarvis Ave', 'Larrabee St & Menomonee St', 'Clarendon Ave & Gordon Ter', 'Woodlawn Ave & 75th St', 'Wabash Ave & 87th St', 'Western Ave & Congress Pkwy', 'Oakley Ave & Irving Park Rd', 'Western Ave & Leland Ave', 'Eastlake Ter & Rogers Ave', 'Indiana Ave & 40th St', 'Troy St & Elston Ave', 'Central Park Ave & Elbridge Ave', 'Western Ave & Winnebago Ave', 'Paulina St & Montrose Ave', 'Benson Ave & Church St', 'Cottage Grove Ave & 43rd St', 'Federal St & Polk St', 'Mies van der Rohe Way & Chestnut St', 'Lincoln Ave & Belle Plaine Ave', 'Calumet Ave & 33rd St', 'Clark St & Lincoln Ave', 'Sheridan Rd & Noyes St (NU)', 'Ellis Ave & 83rd St', 'Clark St & North Ave', 'Dearborn St & Erie St', 'Racine Ave & Randolph St', 'California Ave & Altgeld St', 'Aberdeen St & Monroe St', 'Marion St & South Blvd', 'University Library (NU)', 'Morgan St & Polk St', 'Broadway & Cornelia Ave', 'Cicero Ave & Flournoy St', 'Wentworth Ave & 35th St', 'Broadway & Thorndale Ave', 'Loomis St & Lexington St', 'Wood St & Hubbard St', 'Orleans St & Elm St (*)', 'Lakeview Ave & Fullerton Pkwy', 'Elizabeth St & 47th St', 'Wallace St & 35th St', 'MLK Jr Dr & 56th St (*)', 'Michigan Ave & 18th St', 'Clinton St & Roosevelt Rd', 'Halsted St & 59th St', '63rd St Beach', 'Humphrey Ave & Ontario St', 'Wood St & Milwaukee Ave', 'Canal St & Madison St', 'Calumet Ave & 35th St', 'Sheffield Ave & Willow St', 'Damen Ave & Foster Ave', 'Ashland Ave & Augusta Blvd', 'Milwaukee Ave & Rockwell St', 'Clifton Ave & Armitage Ave', 'Emerald Ave & 31st St', 'Clark St & Randolph St', 'Rhodes Ave & 32nd St', 'Lincoln Ave & Diversey Pkwy', 'Monticello Ave & Irving Park Rd', 'Drake Ave & Addison St', 'Noble St & Milwaukee Ave', 'California Ave & Lake St', 'Ashland Ave & Grace St', 'Lincoln Ave & Leavitt St', 'Sheridan Rd & Buena Ave', 'Sheridan Rd & Lawrence Ave', 'Hampden Ct & Diversey Pkwy', 'Canal St & Taylor St', 'California Ave & Milwaukee Ave', 'South Shore Dr & 71st St', 'Southport Ave & Wrightwood Ave', 'Shore Dr & 55th St', 'Dusable Harbor', 'Normal Ave & Archer Ave', 'Clark St & Wrightwood Ave', 'Logan Blvd & Elston Ave', 'Ellis Ave & 60th St', 'Central Ave & Harrison St', 'Columbus Dr & Randolph St', 'California Ave & Byron St', 'Warren Park East', 'Wisconsin Ave & Madison St', 'California Ave & Francis Pl', 'Wood St & Taylor St', 'Lombard Ave & Madison St', 'Cottage Grove Ave & 83rd St', 'California Ave & 23rd Pl', 'Halsted St & 56th St', 'Kedzie Ave & Bryn Mawr Ave', 'Racine Ave & 35th St', 'Princeton Ave & Garfield Blvd', 'Lincoln Ave & Addison St', 'Sheffield Ave & Wrightwood Ave', 'Racine Ave (May St) & Fulton St', 'Kedzie Ave & Roosevelt Rd', 'Woodlawn Ave & Lake Park Ave', 'Troy St & North Ave', 'Clark St & Lake St', 'Ellis Ave & 55th St', 'Larrabee St & Armitage Ave', 'Lake Park Ave & 56th St', 'Franklin St & Quincy St', 'Christiana Ave & Lawrence Ave', 'Michigan Ave & 8th St', 'Halsted St & Maxwell St', 'Phillips Ave & 82nd St', 'Rush St & Hubbard St', 'Wells St & Polk St', 'Broadway & Belmont Ave', 'Laramie Ave & Madison St', 'Lincoln Ave & Roscoe St', 'Ashland Ave & 50th St', 'Michigan Ave & Jackson Blvd', 'Pulaski Rd & Madison St', 'Montrose Harbor', 'Leavitt St & Lawrence Ave', 'Loomis St & Archer Ave', 'Fairfield Ave & Roosevelt Rd', 'Larrabee St & North Ave', 'Wolcott Ave & Fargo Ave', 'Damen Ave & Cullerton St', 'Fairbanks Ct & Grand Ave', 'Jeffery Blvd & 76th St', 'Greenview Ave & Jarvis Ave', 'Western Ave & 24th St', 'Loomis St & Taylor St (*)', 'Ashland Ave & Grand Ave', 'Clinton St & Washington Blvd', 'Aberdeen St & Jackson Blvd', 'Damen Ave & Leland Ave', 'Franklin St & Jackson Blvd', 'Dayton St & North Ave', 'Sheffield Ave & Webster Ave', 'Austin Blvd & Chicago Ave', 'Vernon Ave & 75th St', 'Leavitt St & Addison St', 'St. Clair St & Erie St', 'South Shore Dr & 67th St', 'Ashland Ave & Wrightwood Ave', 'Campbell Ave & Montrose Ave', 'Ritchie Ct & Banks St', 'Pine Grove Ave & Waveland Ave', 'Dearborn Pkwy & Delaware Pl', 'Normal Ave & 72nd St', 'Field Museum', 'Lake Shore Dr & Belmont Ave', 'St. Louis Ave & Balmoral Ave', 'Lake Shore Dr & Wellington Ave', 'Kedzie Ave & Leland Ave', 'May St & Taylor St', 'Yates Blvd & 75th St', 'Ashland Ave & Wellington Ave', 'Halsted St & Blackhawk St (*)', 'Orleans St & Chestnut St (NEXT Apts)', 'Clinton St & 18th St', 'Clark St & Armitage Ave', 'Damen Ave & Grand Ave', 'Racine Ave & 15th St', 'Wabash Ave & Adams St', 'Calumet Ave & 18th St', 'Ravenswood Ave & Irving Park Rd', 'Stony Island Ave & 71st St', 'Clark St & Schreiber Ave', 'Marshfield Ave & 59th St', 'Austin Blvd & Lake St', 'Clark St & Leland Ave', 'Humboldt Blvd & Armitage Ave', 'South Shore Dr & 74th St', 'Western Ave & 21st St', 'Burnham Harbor', 'LaSalle St & Adams St', 'Lake Shore Dr & Ohio St', 'Cottage Grove Ave & 51st St', 'Halsted St & 69th St', 'Wabash Ave & Grand Ave', 'Rainbow Beach', 'Sawyer Ave & Irving Park Rd', 'Stetson Ave & South Water St', 'Sedgwick St & Webster Ave', 'Michigan Ave & Washington St', 'Lombard Ave & Garfield St', 'Green St & Randolph St', 'Indiana Ave & 31st St', 'Forest Ave & Lake St', 'Ashland Ave & 63rd St', 'Michigan Ave & Oak St', 'Clarendon Ave & Junior Ter', 'Lincoln Ave & Waveland Ave', 'State St & 19th St', 'Ashland Ave & McDowell Ave', 'Central Park Blvd & 5th Ave', 'Damen Ave & Division St', 'Ashland Ave & 69th St', 'Sheffield Ave & Waveland Ave', 'Racine Ave & Wrightwood Ave', 'Wentworth Ave & 33rd St', 'Greenwood Ave & 47th St', 'Central St & Girard Ave', 'Avondale Ave & Irving Park Rd', 'Cottage Grove Ave & 71st St', 'Franklin St & Chicago Ave', 'Kedzie Ave & Milwaukee Ave', 'Bosworth Ave & Howard St', 'Damen Ave & Melrose Ave', 'Southport Ave & Clark St', 'Pulaski Rd & Lake St', 'Damen Ave & Charleston St', 'MLK Jr Dr & 29th St', 'Chicago Ave & Sheridan Rd', 'Clark St & Columbia Ave', 'Sedgwick St & Huron St', 'Shields Ave & 31st St', 'Leavitt St & Armitage Ave', 'Broadway & Berwyn Ave', 'Clark St & Bryn Mawr Ave', 'Chicago Ave & Washington St', 'Clark St & Grace St', 'Clark St & Montrose Ave', 'Ashland Ave & 21st St', 'Wabash Ave & 83rd St', 'Marshfield Ave & Cortland St', 'Dorchester Ave & 63rd St', 'Lake Shore Dr & North Blvd', 'Emerald Ave & 28th St', 'Phillips Ave & 79th St', 'Damen Ave & Wellington Ave', 'Halsted St & North Branch St', 'Warren Park West', 'Artesian Ave & Hubbard St', 'Halsted St & 21st St', 'Ashland Ave & Garfield Blvd', 'Maplewood Ave & Peterson Ave', 'Sheffield Ave & Fullerton Ave', 'Shedd Aquarium', 'Marine Dr & Ainslie St', 'Cottage Grove Ave & 47th St', 'Halsted St & Willow St', 'Manor Ave & Leland Ave', 'Keystone Ave & Montrose Ave', 'Cicero Ave & Quincy St', 'Rush St & Superior St', 'Lincoln Ave & Belmont Ave', 'Washtenaw Ave & 15th St (*)', 'California Ave & Fletcher St', 'California Ave & Cortez St', 'Throop St & 52nd St', 'Streeter Dr & Grand Ave', 'Sangamon St & Washington Blvd (*)', 'Wells St & Evergreen Ave', 'Hoyne Ave & 47th St', 'Kostner Ave & Adams St', 'State St & 35th St', 'Clark St & Congress Pkwy', 'MLK Jr Dr & 63rd St', 'Cottage Grove Ave & Oakwood Blvd', 'Spaulding Ave & Armitage Ave', 'Ridgeland Ave & Lake St', 'Central Park Ave & North Ave', 'Forest Ave & Chicago Ave', 'Kedzie Ave & Palmer Ct', 'Halsted St & 18th St', 'Milwaukee Ave & Wabansia Ave', 'Stony Island Ave & 64th St', 'State St & Van Buren St', 'Drake Ave & Fullerton Ave', 'Buckingham Fountain', 'Theater on the Lake', 'Laramie Ave & Gladys Ave', 'Central Ave & Lake St', 'Desplaines St & Kinzie St', 'California Ave & Division St', 'Milwaukee Ave & Grand Ave', 'Glenwood Ave & Morse Ave', 'Sheridan Rd & Montrose Ave', 'Damen Ave & Coulter St', 'Calumet Ave & 21st St', 'Racine Ave & Garfield Blvd', 'Franklin St & Monroe St', 'Wells St & Huron St', 'Damen Ave & Clybourn Ave', 'Southport Ave & Irving Park Rd', 'Claremont Ave & Hirsch St', 'Loomis St & Jackson Blvd', 'Wabash Ave & Roosevelt Rd', 'May St & 69th St', 'Kosciuszko Park', 'Rush St & Cedar St', 'Carpenter St & Huron St', 'Elmwood Ave & Austin St', 'Ashland Ave & Blackhawk St', 'Stony Island Ave & 75th St', '900 W Harrison St', 'Cottage Grove Ave & 78th St', 'Paulina Ave & North Ave', 'Clifton Ave & Lawrence Ave', 'Clybourn Ave & Division St', 'Dorchester Ave & 49th St', 'Lake Shore Dr & Monroe St', 'Green St & Madison St', 'Racine Ave & 13th St', 'Ashland Ave & Archer Ave', 'Morgan St & Pershing Rd', 'Clinton St & Polk St (*)', 'Sheridan Rd & Loyola Ave', 'Budlong Woods Library', 'Clark St & 9th St (AMLI)', 'Damen Ave & Pershing Rd', 'McClurg Ct & Erie St', 'Union Ave & Root St', 'California Ave & 26th St', 'Halsted St & 47th Pl', 'Morgan St & Lake St', 'Wolcott Ave & Polk St', 'Cityfront Plaza Dr & Pioneer Ct', 'Canal St & Monroe St (*)', 'MLK Jr Dr & Oakwood Blvd', 'Clinton St & Lake St', 'Ridge Blvd & Howard St', 'Wabash Ave & Cermak Rd', 'Halsted St & 35th St (*)', 'Keystone Ave & Fullerton Ave', 'Ellis Ave & 53rd St', 'Damen Ave & 51st St', 'Oak Park Ave & Harrison St', 'Clark St & Berwyn Ave', 'Central Ave & Madison St', 'Desplaines St & Jackson Blvd', 'Larrabee St & Webster Ave', 'Canal St & Adams St', 'Lawndale Ave & 23rd St', 'Southport Ave & Roscoe St', 'Wells St & Walton St', 'Sheridan Rd & Irving Park Rd', 'Daley Center Plaza', 'State St & Kinzie St', 'Washtenaw Ave & Lawrence Ave', 'Southport Ave & Wellington Ave', 'Vernon Ave & 79th St', 'Elston Ave & Wabansia Ave', 'Campbell Ave & North Ave', 'Albany (Kedzie) Ave & Montrose Ave', 'Prairie Ave & 43rd St', 'Mason Ave & Madison St', 'Kedzie Ave & 24th St', 'Racine Ave & Congress Pkwy', 'State St & 79th St', 'Kedzie Ave & 21st St', 'Kimbark Ave & 53rd St', 'DuSable Museum', 'Albany Ave & 26th St', 'State St & Harrison St', 'Rockwell St & Eastwood Ave', 'California Ave & 21st St', 'Calumet Ave & 71st St', 'Ogden Ave & Race Ave', 'Ogden Ave & Roosevelt Rd', 'Halsted St & Diversey Pkwy', 'MLK Jr Dr & 47th St', 'Paulina St & Howard St', 'State St & Randolph St', 'Hermitage Ave & Polk St', 'Wentworth Ave & 63rd St', 'Sedgwick St & North Ave', 'Central Park Ave & Ogden Ave', 'Lake Park Ave & 35th St', 'Sheridan Rd & Greenleaf Ave', 'Eberhart Ave & 61st St'}\n"
     ]
    }
   ],
   "source": [
    "# TAREFA 10\n",
    "input(\"Aperte Enter para continuar...\")\n",
    "# Gênero é fácil porque nós temos apenas algumas opções. E quanto a start_stations? Quantas opções ele tem?\n",
    "\n",
    "start_stations = set(column_to_list(data_list, 3))\n",
    "'''Elimina os repetidos da start_stations, usando set()'''\n",
    "\n",
    "print(\"\\nTAREFA 10: Imprimindo as start stations: \\n\")\n",
    "print('\\nNumero de elementos em \"start_stations\": ', len(start_stations))\n",
    "print('\\n', start_stations)\n",
    "\n",
    "# ------------ NÃO MUDE NENHUM CÓDIGO AQUI ------------\n",
    "assert len(start_stations) == 582, \"TAREFA 10: Comprimento errado de start stations.\"\n",
    "# ----------------------------------------------------- "
   ]
  },
  {
   "cell_type": "code",
   "execution_count": 39,
   "metadata": {},
   "outputs": [
    {
     "name": "stdout",
     "output_type": "stream",
     "text": [
      "Aperte Enter para continuar...\n",
      "Você vai encarar o desafio? (yes ou no)\n",
      "\n",
      "Digite o indice da coluna desejada: 6\n",
      "\n",
      "\n"
     ]
    },
    {
     "name": "stderr",
     "output_type": "stream",
     "text": [
      "IOPub data rate exceeded.\n",
      "The notebook server will temporarily stop sending output\n",
      "to the client in order to avoid crashing it.\n",
      "To change this limit, set the config variable\n",
      "`--NotebookApp.iopub_data_rate_limit`.\n",
      "\n",
      "Current values:\n",
      "NotebookApp.iopub_data_rate_limit=1000000.0 (bytes/sec)\n",
      "NotebookApp.rate_limit_window=3.0 (secs)\n",
      "\n"
     ]
    },
    {
     "ename": "UnboundLocalError",
     "evalue": "local variable 'counts' referenced before assignment",
     "output_type": "error",
     "traceback": [
      "\u001b[1;31m---------------------------------------------------------------------------\u001b[0m",
      "\u001b[1;31mUnboundLocalError\u001b[0m                         Traceback (most recent call last)",
      "\u001b[1;32m<ipython-input-39-a865a3c99180>\u001b[0m in \u001b[0;36m<module>\u001b[1;34m\u001b[0m\n\u001b[0;32m     42\u001b[0m     \u001b[1;31m# ------------ NÃO MUDE NENHUM CÓDIGO AQUI ------------\u001b[0m\u001b[1;33m\u001b[0m\u001b[1;33m\u001b[0m\u001b[1;33m\u001b[0m\u001b[0m\n\u001b[0;32m     43\u001b[0m     \u001b[0mcolumn_list\u001b[0m \u001b[1;33m=\u001b[0m \u001b[0mcolumn_to_list\u001b[0m\u001b[1;33m(\u001b[0m\u001b[0mdata_list\u001b[0m\u001b[1;33m,\u001b[0m \u001b[1;33m-\u001b[0m\u001b[1;36m2\u001b[0m\u001b[1;33m)\u001b[0m\u001b[1;33m\u001b[0m\u001b[1;33m\u001b[0m\u001b[0m\n\u001b[1;32m---> 44\u001b[1;33m     \u001b[0mtypes\u001b[0m\u001b[1;33m,\u001b[0m \u001b[0mcounts\u001b[0m \u001b[1;33m=\u001b[0m \u001b[0mcount_items\u001b[0m\u001b[1;33m(\u001b[0m\u001b[0mcolumn_list\u001b[0m\u001b[1;33m)\u001b[0m\u001b[1;33m\u001b[0m\u001b[1;33m\u001b[0m\u001b[0m\n\u001b[0m\u001b[0;32m     45\u001b[0m     \u001b[0mprint\u001b[0m\u001b[1;33m(\u001b[0m\u001b[1;34m\"\\nTAREFA 12: Imprimindo resultados para count_items()\"\u001b[0m\u001b[1;33m)\u001b[0m\u001b[1;33m\u001b[0m\u001b[1;33m\u001b[0m\u001b[0m\n\u001b[0;32m     46\u001b[0m     \u001b[0mprint\u001b[0m\u001b[1;33m(\u001b[0m\u001b[1;34m\"Tipos:\"\u001b[0m\u001b[1;33m,\u001b[0m \u001b[0mtypes\u001b[0m\u001b[1;33m,\u001b[0m \u001b[1;34m\"Counts:\"\u001b[0m\u001b[1;33m,\u001b[0m \u001b[0mcounts\u001b[0m\u001b[1;33m)\u001b[0m\u001b[1;33m\u001b[0m\u001b[1;33m\u001b[0m\u001b[0m\n",
      "\u001b[1;32m<ipython-input-39-a865a3c99180>\u001b[0m in \u001b[0;36mcount_items\u001b[1;34m(column_list)\u001b[0m\n\u001b[0;32m     25\u001b[0m         \u001b[1;32mfor\u001b[0m \u001b[0mroww\u001b[0m \u001b[1;32min\u001b[0m \u001b[0mitem_types\u001b[0m\u001b[1;33m:\u001b[0m\u001b[1;33m\u001b[0m\u001b[1;33m\u001b[0m\u001b[0m\n\u001b[0;32m     26\u001b[0m             \u001b[1;32mif\u001b[0m \u001b[1;33m(\u001b[0m\u001b[0mtipo\u001b[0m \u001b[1;33m==\u001b[0m \u001b[0mroww\u001b[0m\u001b[1;33m)\u001b[0m\u001b[1;33m:\u001b[0m\u001b[1;33m\u001b[0m\u001b[1;33m\u001b[0m\u001b[0m\n\u001b[1;32m---> 27\u001b[1;33m                 \u001b[0mcounts\u001b[0m \u001b[1;33m+=\u001b[0m \u001b[1;36m1\u001b[0m\u001b[1;33m\u001b[0m\u001b[1;33m\u001b[0m\u001b[0m\n\u001b[0m\u001b[0;32m     28\u001b[0m \u001b[1;33m\u001b[0m\u001b[0m\n\u001b[0;32m     29\u001b[0m     \u001b[1;32mreturn\u001b[0m \u001b[0mitem_types\u001b[0m\u001b[1;33m,\u001b[0m \u001b[0mcount_items\u001b[0m\u001b[1;33m\u001b[0m\u001b[1;33m\u001b[0m\u001b[0m\n",
      "\u001b[1;31mUnboundLocalError\u001b[0m: local variable 'counts' referenced before assignment"
     ]
    }
   ],
   "source": [
    "# TAREFA 12\n",
    "input(\"Aperte Enter para continuar...\")\n",
    "# Função para contar tipos de usuários, sem definir os tipos.'''\n",
    "# De modo a usar essa função com outra categoria de dados.\n",
    "\n",
    "print(\"Você vai encarar o desafio? (yes ou no)\")\n",
    "answer = \"yes\"\n",
    "    \n",
    "def count_items(column_list):\n",
    "    item_types = []\n",
    "    count_items = []\n",
    "    \n",
    "    colum = int(input('\\nDigite o indice da coluna desejada: ')) # Nosso caso para teste: -2 \n",
    "    print('\\n')\n",
    "    for linhas in range(len(data_list)): \n",
    "        item_types.append(data_list[linhas][colum]) \n",
    "        \n",
    "    # print(item_types[:20]) # Exibe os 20 primeiros elementos da lista criada, como teste de funcinamento\n",
    "    \n",
    "    types = set(item_types) # Elementos unicos da lista, ou seja, os tipos de usuarios na lista.\n",
    "    print(item_types)\n",
    "    \n",
    "    \n",
    "    #for tipo in types:\n",
    "     #   for roww in item_types:\n",
    "      #      if (tipo == roww):\n",
    "       #         counts += 1\n",
    "    \n",
    "    return item_types, count_items\n",
    "'''\n",
    "Função para lista dos \"count_items\". Conta número unicos de elementos cadastrados na lista\n",
    "-Argumentos:    \n",
    "   item_types = lista criada a partir da coluna desejada.\n",
    "   types = lista com valores unicos da lista \"item_types\".\n",
    "   counts = numero de elementos na lista\n",
    "   .\n",
    "-Retorna:\n",
    "    Quantidade de elementos únicos e  \n",
    "'''\n",
    "\n",
    "if answer == \"yes\":\n",
    "    # ------------ NÃO MUDE NENHUM CÓDIGO AQUI ------------\n",
    "    column_list = column_to_list(data_list, -2)\n",
    "    types, counts = count_items(column_list)\n",
    "    print(\"\\nTAREFA 12: Imprimindo resultados para count_items()\")\n",
    "    print(\"Tipos:\", types, \"Counts:\", counts)\n",
    "    assert len(types) == 3, \"TAREFA 12: Há 3 tipos de gênero!\"\n",
    "    assert sum(counts) == 1551505, \"TAREFA 12: Resultado de retorno incorreto!\"\n",
    "    # -----------------------------------------------------\n"
   ]
  },
  {
   "cell_type": "code",
   "execution_count": null,
   "metadata": {},
   "outputs": [],
   "source": []
  },
  {
   "cell_type": "code",
   "execution_count": null,
   "metadata": {},
   "outputs": [],
   "source": []
  }
 ],
 "metadata": {
  "kernelspec": {
   "display_name": "Python 3",
   "language": "python",
   "name": "python3"
  },
  "language_info": {
   "codemirror_mode": {
    "name": "ipython",
    "version": 3
   },
   "file_extension": ".py",
   "mimetype": "text/x-python",
   "name": "python",
   "nbconvert_exporter": "python",
   "pygments_lexer": "ipython3",
   "version": "3.7.2"
  }
 },
 "nbformat": 4,
 "nbformat_minor": 2
}
