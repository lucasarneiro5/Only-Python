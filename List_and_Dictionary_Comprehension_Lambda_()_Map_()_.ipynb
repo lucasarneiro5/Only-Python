{
  "nbformat": 4,
  "nbformat_minor": 0,
  "metadata": {
    "colab": {
      "name": "List and Dictionary Comprehension - Lambda ()- Map () - .ipynb",
      "provenance": [],
      "collapsed_sections": [],
      "authorship_tag": "ABX9TyMv3K77xZIlUXyQFg3NGwLV",
      "include_colab_link": true
    },
    "kernelspec": {
      "name": "python3",
      "display_name": "Python 3"
    },
    "language_info": {
      "name": "python"
    }
  },
  "cells": [
    {
      "cell_type": "markdown",
      "metadata": {
        "id": "view-in-github",
        "colab_type": "text"
      },
      "source": [
        "<a href=\"https://colab.research.google.com/github/lucasarneiro5/Only-Python/blob/main/List_and_Dictionary_Comprehension_Lambda_()_Map_()_.ipynb\" target=\"_parent\"><img src=\"https://colab.research.google.com/assets/colab-badge.svg\" alt=\"Open In Colab\"/></a>"
      ]
    },
    {
      "cell_type": "markdown",
      "metadata": {
        "id": "y_kJtbKxyESs"
      },
      "source": [
        "### **List Comprehension**\n",
        "\n",
        "- [Blog no Medium](https://medium.com/data-hackers/aprenda-list-comprehension-7335844265bd)\n",
        "\n",
        "\n",
        "- [Blog do DataCamp](https://www.datacamp.com/community/tutorials/python-list-comprehension?utm_source=adwords_ppc&utm_campaignid=1455363063&utm_adgroupid=65083631748&utm_device=c&utm_keyword=&utm_matchtype=b&utm_network=g&utm_adpostion=&utm_creative=278443377095&utm_targetid=aud-392016246653:dsa-486527602543&utm_loc_interest_ms=&utm_loc_physical_ms=1001575&gclid=Cj0KCQjwqKuKBhCxARIsACf4XuH5EgTvQsg8bYAfK3sVqoIC3emSM5grTbWTIEyi2n8R_VzHQSjP_yAaAuGVEALw_wcB)"
      ]
    },
    {
      "cell_type": "code",
      "metadata": {
        "colab": {
          "base_uri": "https://localhost:8080/"
        },
        "id": "UXOE2YY0yPO5",
        "outputId": "f1232d23-effa-478c-e30b-53bc23493a24"
      },
      "source": [
        "# Forma tradicional de dobrar uma lista\n",
        "preços = [500, 1500, 2000, 100, 25]\n",
        "nova_lista = []\n",
        "for i in preços:\n",
        "  nova_lista.append(i*2)\n",
        "print(nova_lista)"
      ],
      "execution_count": null,
      "outputs": [
        {
          "output_type": "stream",
          "text": [
            "[1000, 3000, 4000, 200, 50]\n"
          ],
          "name": "stdout"
        }
      ]
    },
    {
      "cell_type": "code",
      "metadata": {
        "colab": {
          "base_uri": "https://localhost:8080/"
        },
        "id": "yMqeGWlFznBo",
        "outputId": "44ccd589-2cf1-48a6-d98b-bd26da2c6654"
      },
      "source": [
        "# Dobrar uma lista com List Comprehension\n",
        "nova_lista_comprehension = [i*2 for i in preços]\n",
        "nova_lista_comprehension"
      ],
      "execution_count": null,
      "outputs": [
        {
          "output_type": "execute_result",
          "data": {
            "text/plain": [
              "[1000, 3000, 4000, 200, 50]"
            ]
          },
          "metadata": {
            "tags": []
          },
          "execution_count": 5
        }
      ]
    },
    {
      "cell_type": "code",
      "metadata": {
        "colab": {
          "base_uri": "https://localhost:8080/"
        },
        "id": "XoctNPv-p2IS",
        "outputId": "26225dea-5e01-4210-bf8d-13d4dbafbfa9"
      },
      "source": [
        "# Creating a list from 0 to 9 elevating each element by 2\n",
        "S = [x**2 for x in range(10)]\n",
        "S"
      ],
      "execution_count": null,
      "outputs": [
        {
          "output_type": "stream",
          "name": "stdout",
          "text": [
            "[0, 1, 4, 9, 16, 25, 36, 49, 64, 81]\n"
          ]
        }
      ]
    },
    {
      "cell_type": "code",
      "metadata": {
        "colab": {
          "base_uri": "https://localhost:8080/"
        },
        "id": "xEDj4d8Ys1Ho",
        "outputId": "411d5eae-5f01-4264-df17-b2c15f8ab31d"
      },
      "source": [
        "# Tabuada\n",
        "def tabuada(n):\n",
        "  lst = range(1,11)\n",
        "  result = [n*i for i in lst]\n",
        "  return result\n",
        "\n",
        "tabuada(5)"
      ],
      "execution_count": null,
      "outputs": [
        {
          "output_type": "execute_result",
          "data": {
            "text/plain": [
              "[5, 10, 15, 20, 25, 30, 35, 40, 45, 50]"
            ]
          },
          "metadata": {},
          "execution_count": 4
        }
      ]
    },
    {
      "cell_type": "markdown",
      "metadata": {
        "id": "S0EjfjOMvxnf"
      },
      "source": [
        "**List Comprehension with If-Else**\n",
        "\n",
        "*newlist = [expression for item in iterable if condition == True]*\n",
        "\n"
      ]
    },
    {
      "cell_type": "code",
      "metadata": {
        "colab": {
          "base_uri": "https://localhost:8080/"
        },
        "id": "61uq0G1M5fGb",
        "outputId": "206a1979-f0fa-4ee2-97dd-a0728f3c3008"
      },
      "source": [
        "# Todos os produtos acima de 1000, imposto sobre 50% do valor\n",
        "imposto = [i*0.5 for i in preços if i > 1000]\n",
        "imposto"
      ],
      "execution_count": null,
      "outputs": [
        {
          "output_type": "execute_result",
          "data": {
            "text/plain": [
              "[750.0, 1000.0]"
            ]
          },
          "metadata": {
            "tags": []
          },
          "execution_count": 7
        }
      ]
    },
    {
      "cell_type": "code",
      "metadata": {
        "colab": {
          "base_uri": "https://localhost:8080/"
        },
        "id": "1E8G1YOTrnXN",
        "outputId": "1385cb77-fe41-4df1-8410-223bbee5f0b8"
      },
      "source": [
        "# Detecting if there is any even element\n",
        "even = [i for i in S if i%2 == 0]\n",
        "even"
      ],
      "execution_count": null,
      "outputs": [
        {
          "output_type": "execute_result",
          "data": {
            "text/plain": [
              "[0, 4, 16, 36, 64]"
            ]
          },
          "metadata": {},
          "execution_count": 2
        }
      ]
    },
    {
      "cell_type": "code",
      "metadata": {
        "colab": {
          "base_uri": "https://localhost:8080/"
        },
        "id": "_UhFKCNquEJd",
        "outputId": "5df180ba-3584-4480-8160-fec5d776f8b1"
      },
      "source": [
        "# List Comprehension with If-Else\n",
        "lst = [100,45,294,23904,395,3864,87495,233,2245,67,788,998,776,900]\n",
        "print([x if x < 300 else \"Maior que 300!\" for x in lst])"
      ],
      "execution_count": null,
      "outputs": [
        {
          "output_type": "stream",
          "name": "stdout",
          "text": [
            "[100, 45, 294, 'Maior que 300!', 'Maior que 300!', 'Maior que 300!', 'Maior que 300!', 233, 'Maior que 300!', 67, 'Maior que 300!', 'Maior que 300!', 'Maior que 300!', 'Maior que 300!']\n"
          ]
        }
      ]
    },
    {
      "cell_type": "markdown",
      "metadata": {
        "id": "e9OVZViKv1wp"
      },
      "source": [
        "**Dictionary Comprehension**"
      ]
    },
    {
      "cell_type": "code",
      "metadata": {
        "colab": {
          "base_uri": "https://localhost:8080/"
        },
        "id": "PVSw8rvJvaNg",
        "outputId": "812e1254-8c27-4f16-b0cf-f4d7520c6a79"
      },
      "source": [
        "# Building Dictionary Comprehension\n",
        "frutas = ['banana', 'maçã', 'pera', 'tomate', 'uva']\n",
        "\n",
        "{i:frutas[i] for i in range(len(frutas))}"
      ],
      "execution_count": null,
      "outputs": [
        {
          "output_type": "execute_result",
          "data": {
            "text/plain": [
              "{0: 'banana', 1: 'maçã', 2: 'pera', 3: 'tomate', 4: 'uva'}"
            ]
          },
          "metadata": {},
          "execution_count": 8
        }
      ]
    },
    {
      "cell_type": "code",
      "metadata": {
        "colab": {
          "base_uri": "https://localhost:8080/"
        },
        "id": "vty_a0IWxDea",
        "outputId": "3d3b4b74-0c4d-4db8-b855-2e10e4934c93"
      },
      "source": [
        "dict1 = {'a': 1, 'b': 2, 'c': 3, 'd': 4}\n",
        "# Put all keys of `dict1` in a list and returns the list\n",
        "dict1.keys()"
      ],
      "execution_count": null,
      "outputs": [
        {
          "output_type": "execute_result",
          "data": {
            "text/plain": [
              "dict_keys(['a', 'b', 'c', 'd'])"
            ]
          },
          "metadata": {},
          "execution_count": 9
        }
      ]
    },
    {
      "cell_type": "code",
      "metadata": {
        "colab": {
          "base_uri": "https://localhost:8080/"
        },
        "id": "mkC1ZGACxOcA",
        "outputId": "b4ed2800-99b5-4ee1-e6ef-9a8cadc804ad"
      },
      "source": [
        "dict1.values()"
      ],
      "execution_count": null,
      "outputs": [
        {
          "output_type": "execute_result",
          "data": {
            "text/plain": [
              "dict_values([1, 2, 3, 4])"
            ]
          },
          "metadata": {},
          "execution_count": 10
        }
      ]
    },
    {
      "cell_type": "code",
      "metadata": {
        "colab": {
          "base_uri": "https://localhost:8080/"
        },
        "id": "MzEpScGkxvHQ",
        "outputId": "38d8990a-2d4b-42a7-a481-66b8c8352320"
      },
      "source": [
        "dict1.items()"
      ],
      "execution_count": null,
      "outputs": [
        {
          "output_type": "execute_result",
          "data": {
            "text/plain": [
              "dict_items([('a', 1), ('b', 2), ('c', 3), ('d', 4)])"
            ]
          },
          "metadata": {},
          "execution_count": 11
        }
      ]
    },
    {
      "cell_type": "code",
      "metadata": {
        "colab": {
          "base_uri": "https://localhost:8080/"
        },
        "id": "hJr_Q3Umx6eo",
        "outputId": "2b6fdd8d-6bb3-4fd2-fb8c-117da1d54af8"
      },
      "source": [
        "dict_variable = {key:value for (key, value) in dict1.items()}\n",
        "dict_variable"
      ],
      "execution_count": null,
      "outputs": [
        {
          "output_type": "execute_result",
          "data": {
            "text/plain": [
              "{'a': 1, 'b': 2, 'c': 3, 'd': 4}"
            ]
          },
          "metadata": {},
          "execution_count": 13
        }
      ]
    },
    {
      "cell_type": "code",
      "metadata": {
        "colab": {
          "base_uri": "https://localhost:8080/"
        },
        "id": "PAmvc-zQvvlH",
        "outputId": "c4ed037a-9f06-4031-f1d7-1900ed43f4fc"
      },
      "source": [
        "dict1 = {'a': 1, 'b': 2, 'c': 3, 'd': 4, 'e': 5, 'f':6}\n",
        "# Double each value in the dictionary\n",
        "dict_comprehension = {k:v*2 for (k,v) in dict1.items()}\n",
        "dict_comprehension"
      ],
      "execution_count": null,
      "outputs": [
        {
          "output_type": "execute_result",
          "data": {
            "text/plain": [
              "{'a': 2, 'b': 4, 'c': 6, 'd': 8, 'e': 10, 'f': 12}"
            ]
          },
          "metadata": {},
          "execution_count": 15
        }
      ]
    },
    {
      "cell_type": "code",
      "metadata": {
        "colab": {
          "base_uri": "https://localhost:8080/"
        },
        "id": "zqGc05Mf1ctH",
        "outputId": "efe99b44-1c94-4a38-ca9c-03fe148c67f3"
      },
      "source": [
        "# IF - ELSE\n",
        "dict_tripleCond = {k:('even' if v%2==0 else 'odd') for (k,v) in dict1.items()}\n",
        "dict_tripleCond"
      ],
      "execution_count": null,
      "outputs": [
        {
          "output_type": "execute_result",
          "data": {
            "text/plain": [
              "{'a': 'odd', 'b': 'even', 'c': 'odd', 'd': 'even', 'e': 'odd', 'f': 'even'}"
            ]
          },
          "metadata": {},
          "execution_count": 16
        }
      ]
    },
    {
      "cell_type": "markdown",
      "metadata": {
        "id": "WJyCRxC_yNx5"
      },
      "source": [
        "=========================================================================="
      ]
    },
    {
      "cell_type": "markdown",
      "metadata": {
        "id": "aZLG_56BA8s-"
      },
      "source": [
        "### **Lambda ( )**\n",
        "\n",
        "Pequena função anonima. Pode ter qualquer numero de argumentos, mas apenas 1 expressão.\n",
        "\n",
        "*lambda* arguments : expression\n",
        "\n",
        "Fonte: https://realpython.com/python-lambda/"
      ]
    },
    {
      "cell_type": "code",
      "metadata": {
        "colab": {
          "base_uri": "https://localhost:8080/"
        },
        "id": "ogemasZ0GZUT",
        "outputId": "26552a45-2787-4324-83c9-a3b5b0ff6d7c"
      },
      "source": [
        "x = lambda a : a + 10\n",
        "print(x(5))"
      ],
      "execution_count": null,
      "outputs": [
        {
          "output_type": "stream",
          "text": [
            "15\n"
          ],
          "name": "stdout"
        }
      ]
    },
    {
      "cell_type": "code",
      "metadata": {
        "colab": {
          "base_uri": "https://localhost:8080/"
        },
        "id": "QkZPa6I6Gote",
        "outputId": "54ac6e4f-e851-4c99-9058-699acb37b85b"
      },
      "source": [
        "x = lambda a, b, c: a + b + c\n",
        "print(x(5,6,7))"
      ],
      "execution_count": null,
      "outputs": [
        {
          "output_type": "stream",
          "text": [
            "18\n"
          ],
          "name": "stdout"
        }
      ]
    },
    {
      "cell_type": "code",
      "metadata": {
        "colab": {
          "base_uri": "https://localhost:8080/"
        },
        "id": "b7qL5cSGMmY1",
        "outputId": "85d137d1-8139-4e21-ea0a-132dd705ef26"
      },
      "source": [
        "# We can make a lamba inside from another function\n",
        "\n",
        "def myfunction(n):\n",
        "  return lambda a : a*n\n",
        "\n",
        "mydoubler = myfunction(2)\n",
        "mytripler = myfunction(3)\n",
        "\n",
        "print('The double of the number is: ', mydoubler(2))\n",
        "print('The triple of the number is: ',mytripler(3))"
      ],
      "execution_count": null,
      "outputs": [
        {
          "output_type": "stream",
          "text": [
            "The double of the number is:  4\n",
            "The triple of the number is:  9\n"
          ],
          "name": "stdout"
        }
      ]
    },
    {
      "cell_type": "code",
      "metadata": {
        "colab": {
          "base_uri": "https://localhost:8080/"
        },
        "id": "RrhcwsCDSzr5",
        "outputId": "fb8602d9-3a67-4ce9-d25f-4396eaffe4c5"
      },
      "source": [
        "# We can use the argument by surrounding the function\n",
        "(lambda x: x + 1)(2)"
      ],
      "execution_count": null,
      "outputs": [
        {
          "output_type": "execute_result",
          "data": {
            "text/plain": [
              "3"
            ]
          },
          "metadata": {
            "tags": []
          },
          "execution_count": 43
        }
      ]
    },
    {
      "cell_type": "code",
      "metadata": {
        "colab": {
          "base_uri": "https://localhost:8080/",
          "height": 35
        },
        "id": "plzQzYB_ToRa",
        "outputId": "a7270c70-8754-46fe-bd44-fa8dc029a064"
      },
      "source": [
        "full_name = lambda first, last: f'Full name: {first.title()} {last.title()}'\n",
        "full_name('lucas', 'vieira')"
      ],
      "execution_count": null,
      "outputs": [
        {
          "output_type": "execute_result",
          "data": {
            "application/vnd.google.colaboratory.intrinsic+json": {
              "type": "string"
            },
            "text/plain": [
              "'Full name: Lucas Vieira'"
            ]
          },
          "metadata": {
            "tags": []
          },
          "execution_count": 44
        }
      ]
    },
    {
      "cell_type": "code",
      "metadata": {
        "colab": {
          "base_uri": "https://localhost:8080/"
        },
        "id": "tlVCYBPnVF2r",
        "outputId": "9e8fb68d-27b5-4c63-f9e8-698255f0e932"
      },
      "source": [
        "(lambda *args: sum(args))(1,2,3)"
      ],
      "execution_count": null,
      "outputs": [
        {
          "output_type": "execute_result",
          "data": {
            "text/plain": [
              "6"
            ]
          },
          "metadata": {
            "tags": []
          },
          "execution_count": 45
        }
      ]
    },
    {
      "cell_type": "code",
      "metadata": {
        "id": "ottz5AquVeA8",
        "colab": {
          "base_uri": "https://localhost:8080/"
        },
        "outputId": "565fb560-757b-4e4a-a5ca-7e09212d09ba"
      },
      "source": [
        "(lambda **kwargs: sum(kwargs.values()))(one=1, two=2, three=3)"
      ],
      "execution_count": null,
      "outputs": [
        {
          "output_type": "execute_result",
          "data": {
            "text/plain": [
              "6"
            ]
          },
          "metadata": {
            "tags": []
          },
          "execution_count": 46
        }
      ]
    },
    {
      "cell_type": "markdown",
      "metadata": {
        "id": "a7hlH01dvwUa"
      },
      "source": [
        "=========================================================================="
      ]
    },
    {
      "cell_type": "markdown",
      "metadata": {
        "id": "OPz6VuecxG9q"
      },
      "source": [
        "### **Map ()**\n",
        "\n",
        "Consiste em aplicar uma função de transformação a um iterável para produzir um novo iterável. Os itens no novo iterável são produzidos chamando a função de transformação em cada item no iterável original.\n",
        "\n",
        "*map(function, iterable[, iterable1, iterable2,..., iterableN])*\n",
        "\n",
        "* **function** = função que iremos aplicas\n",
        "* **iterable** = elementos que vamos aplicar a 'function'\n",
        "\n",
        "https://realpython.com/python-map-function/"
      ]
    },
    {
      "cell_type": "code",
      "metadata": {
        "colab": {
          "base_uri": "https://localhost:8080/"
        },
        "id": "JueWDIZ5vxpR",
        "outputId": "49037442-9996-48a9-8d12-465777113da8"
      },
      "source": [
        "def double(number):\n",
        "  return number*2\n",
        "\n",
        "numbers = [1,2,3,4,5]\n",
        "dobro = map(double, numbers)\n",
        "list(dobro)"
      ],
      "execution_count": null,
      "outputs": [
        {
          "output_type": "execute_result",
          "data": {
            "text/plain": [
              "[2, 4, 6, 8, 10]"
            ]
          },
          "metadata": {
            "tags": []
          },
          "execution_count": 8
        }
      ]
    },
    {
      "cell_type": "code",
      "metadata": {
        "colab": {
          "base_uri": "https://localhost:8080/"
        },
        "id": "9ds2M3FN_tH5",
        "outputId": "b31b735e-2541-4aba-92b1-0de463993774"
      },
      "source": [
        "# Transformar uma lista em string para inteiro\n",
        "str_nums = [\"4\", \"8\", \"6\", \"5\", \"3\", \"2\", \"8\", \"9\", \"2\", \"5\"]\n",
        "\n",
        "inteiros = map(int, str_nums)\n",
        "list(inteiros)"
      ],
      "execution_count": null,
      "outputs": [
        {
          "output_type": "execute_result",
          "data": {
            "text/plain": [
              "[4, 8, 6, 5, 3, 2, 8, 9, 2, 5]"
            ]
          },
          "metadata": {
            "tags": []
          },
          "execution_count": 11
        }
      ]
    },
    {
      "cell_type": "code",
      "metadata": {
        "colab": {
          "base_uri": "https://localhost:8080/"
        },
        "id": "yd8pnELELq3s",
        "outputId": "d2cceb9f-7e73-42a4-f55b-30df56c67caf"
      },
      "source": [
        "# Map () + Lambda ()\n",
        "numbers = [1, 2, 3, 4, 5]\n",
        "squared = map(lambda x: x**2, numbers)\n",
        "\n",
        "print(list(squared), '\\n')\n",
        "\n",
        "# Example 2:\n",
        "print(list(map(lambda x, y: x -y, [2,4,6], [1,3,5])))\n",
        "\n",
        "# Example 3:\n",
        "list(map(lambda x, y, z: x + y + z, [2,4], [1,3], [7,8]))"
      ],
      "execution_count": null,
      "outputs": [
        {
          "output_type": "stream",
          "text": [
            "[1, 4, 9, 16, 25] \n",
            "\n",
            "[1, 1, 1]\n"
          ],
          "name": "stdout"
        },
        {
          "output_type": "execute_result",
          "data": {
            "text/plain": [
              "[10, 15]"
            ]
          },
          "metadata": {
            "tags": []
          },
          "execution_count": 15
        }
      ]
    },
    {
      "cell_type": "code",
      "metadata": {
        "colab": {
          "base_uri": "https://localhost:8080/"
        },
        "id": "LoV2u284MYzf",
        "outputId": "aa4a54cb-e46b-4123-b758-d25a92c060a6"
      },
      "source": [
        "string_it = [\"processing\", \"strings\", \"with\", \"map\"]\n",
        "list(map(str.capitalize, string_it))"
      ],
      "execution_count": null,
      "outputs": [
        {
          "output_type": "execute_result",
          "data": {
            "text/plain": [
              "['Processing', 'Strings', 'With', 'Map']"
            ]
          },
          "metadata": {
            "tags": []
          },
          "execution_count": 16
        }
      ]
    },
    {
      "cell_type": "code",
      "metadata": {
        "id": "bKMkNGgSQDZ2"
      },
      "source": [
        ""
      ],
      "execution_count": null,
      "outputs": []
    }
  ]
}