{
  "nbformat": 4,
  "nbformat_minor": 0,
  "metadata": {
    "colab": {
      "name": "UpatingReportEmail.ipynb",
      "provenance": []
    },
    "kernelspec": {
      "name": "python3",
      "display_name": "Python 3"
    }
  },
  "cells": [
    {
      "cell_type": "code",
      "metadata": {
        "id": "iDJ8p7s03Q7z",
        "colab_type": "code",
        "colab": {
          "base_uri": "https://localhost:8080/",
          "height": 153
        },
        "outputId": "98b26f8e-3703-44d0-9773-3d9252dbc8df"
      },
      "source": [
        "!pip install pdf_reports -q"
      ],
      "execution_count": 3,
      "outputs": [
        {
          "output_type": "stream",
          "text": [
            "\u001b[K     |████████████████████████████████| 122kB 4.8MB/s \n",
            "\u001b[K     |████████████████████████████████| 368kB 8.8MB/s \n",
            "\u001b[K     |████████████████████████████████| 3.0MB 11.0MB/s \n",
            "\u001b[K     |████████████████████████████████| 71kB 6.2MB/s \n",
            "\u001b[K     |████████████████████████████████| 71kB 6.7MB/s \n",
            "\u001b[K     |████████████████████████████████| 51kB 4.9MB/s \n",
            "\u001b[?25h  Building wheel for pdf-reports (setup.py) ... \u001b[?25l\u001b[?25hdone\n",
            "  Building wheel for cairocffi (setup.py) ... \u001b[?25l\u001b[?25hdone\n"
          ],
          "name": "stdout"
        }
      ]
    },
    {
      "cell_type": "code",
      "metadata": {
        "id": "MeSDahAB3n64",
        "colab_type": "code",
        "colab": {}
      },
      "source": [
        "import pandas as pd\n",
        "from datetime import datetime\n",
        "from pdf_reports import pug_to_html, write_report"
      ],
      "execution_count": 4,
      "outputs": []
    },
    {
      "cell_type": "code",
      "metadata": {
        "id": "OiuPkx314hCh",
        "colab_type": "code",
        "colab": {}
      },
      "source": [
        "# Load an excel spreadsheet\n",
        "planilha = pd.read_excel('/content/controle_de_abacates.xlsx')"
      ],
      "execution_count": 9,
      "outputs": []
    },
    {
      "cell_type": "code",
      "metadata": {
        "id": "az58kbWB4846",
        "colab_type": "code",
        "colab": {
          "base_uri": "https://localhost:8080/",
          "height": 204
        },
        "outputId": "a0f63bef-573a-415a-a077-c0a0a6fa7341"
      },
      "source": [
        "planilha.head()"
      ],
      "execution_count": 10,
      "outputs": [
        {
          "output_type": "execute_result",
          "data": {
            "text/html": [
              "<div>\n",
              "<style scoped>\n",
              "    .dataframe tbody tr th:only-of-type {\n",
              "        vertical-align: middle;\n",
              "    }\n",
              "\n",
              "    .dataframe tbody tr th {\n",
              "        vertical-align: top;\n",
              "    }\n",
              "\n",
              "    .dataframe thead th {\n",
              "        text-align: right;\n",
              "    }\n",
              "</style>\n",
              "<table border=\"1\" class=\"dataframe\">\n",
              "  <thead>\n",
              "    <tr style=\"text-align: right;\">\n",
              "      <th></th>\n",
              "      <th>id</th>\n",
              "      <th>data</th>\n",
              "      <th>preco_medio</th>\n",
              "      <th>volume_total</th>\n",
              "      <th>tipo</th>\n",
              "      <th>ano</th>\n",
              "    </tr>\n",
              "  </thead>\n",
              "  <tbody>\n",
              "    <tr>\n",
              "      <th>0</th>\n",
              "      <td>1</td>\n",
              "      <td>2017-01-01</td>\n",
              "      <td>2.06</td>\n",
              "      <td>39260.55</td>\n",
              "      <td>Orgânico</td>\n",
              "      <td>2017</td>\n",
              "    </tr>\n",
              "    <tr>\n",
              "      <th>1</th>\n",
              "      <td>2</td>\n",
              "      <td>2017-01-08</td>\n",
              "      <td>2.15</td>\n",
              "      <td>42755.80</td>\n",
              "      <td>Orgânico</td>\n",
              "      <td>2017</td>\n",
              "    </tr>\n",
              "    <tr>\n",
              "      <th>2</th>\n",
              "      <td>3</td>\n",
              "      <td>2017-01-15</td>\n",
              "      <td>2.09</td>\n",
              "      <td>42233.25</td>\n",
              "      <td>Orgânico</td>\n",
              "      <td>2017</td>\n",
              "    </tr>\n",
              "    <tr>\n",
              "      <th>3</th>\n",
              "      <td>4</td>\n",
              "      <td>2017-01-22</td>\n",
              "      <td>2.05</td>\n",
              "      <td>49056.11</td>\n",
              "      <td>Orgânico</td>\n",
              "      <td>2017</td>\n",
              "    </tr>\n",
              "    <tr>\n",
              "      <th>4</th>\n",
              "      <td>5</td>\n",
              "      <td>2017-01-29</td>\n",
              "      <td>2.08</td>\n",
              "      <td>46602.16</td>\n",
              "      <td>Convencional</td>\n",
              "      <td>2017</td>\n",
              "    </tr>\n",
              "  </tbody>\n",
              "</table>\n",
              "</div>"
            ],
            "text/plain": [
              "   id       data  preco_medio  volume_total          tipo   ano\n",
              "0   1 2017-01-01         2.06      39260.55      Orgânico  2017\n",
              "1   2 2017-01-08         2.15      42755.80      Orgânico  2017\n",
              "2   3 2017-01-15         2.09      42233.25      Orgânico  2017\n",
              "3   4 2017-01-22         2.05      49056.11      Orgânico  2017\n",
              "4   5 2017-01-29         2.08      46602.16  Convencional  2017"
            ]
          },
          "metadata": {
            "tags": []
          },
          "execution_count": 10
        }
      ]
    },
    {
      "cell_type": "code",
      "metadata": {
        "id": "uVKmB-la4--h",
        "colab_type": "code",
        "colab": {
          "base_uri": "https://localhost:8080/",
          "height": 34
        },
        "outputId": "ac0cae25-9b2a-4cb8-c03d-c63849f72c57"
      },
      "source": [
        "# Data\n",
        "hoje = datetime.now()\n",
        "print(hoje)"
      ],
      "execution_count": 8,
      "outputs": [
        {
          "output_type": "stream",
          "text": [
            "2020-08-14 21:34:14.596393\n"
          ],
          "name": "stdout"
        }
      ]
    },
    {
      "cell_type": "code",
      "metadata": {
        "id": "XZbjjyZO5N6Z",
        "colab_type": "code",
        "colab": {
          "base_uri": "https://localhost:8080/",
          "height": 291
        },
        "outputId": "43c2d499-e501-4f6f-eba8-84317986473b"
      },
      "source": [
        "# Changing Report to html updating datas\n",
        "html = pug_to_html('/content/modelo_de_relatorio.pug',\n",
        "                    planilha=planilha,\n",
        "                    hoje=hoje)"
      ],
      "execution_count": 13,
      "outputs": [
        {
          "output_type": "display_data",
          "data": {
            "image/png": "[encoded data removed]",
            "text/plain": [
              "<Figure size 432x288 with 1 Axes>"
            ]
          },
          "metadata": {
            "tags": [],
            "needs_background": "light"
          }
        }
      ]
    },
    {
      "cell_type": "code",
      "metadata": {
        "id": "VE69yJnO5zUI",
        "colab_type": "code",
        "colab": {}
      },
      "source": [
        "# Bulding report in pdf\n",
        "write_report(html, 'controle_abacates_relatorio.pdf')"
      ],
      "execution_count": 14,
      "outputs": []
    },
    {
      "cell_type": "markdown",
      "metadata": {
        "id": "WSj7Af838tsW",
        "colab_type": "text"
      },
      "source": [
        ""
      ]
    },
    {
      "cell_type": "code",
      "metadata": {
        "id": "misSpLs36cDE",
        "colab_type": "code",
        "colab": {}
      },
      "source": [
        "# Load an excel spreadsheet updated\n",
        "planilha_new = pd.read_excel('/content/controle_de_abacates_atualizado.xlsx')"
      ],
      "execution_count": 22,
      "outputs": []
    },
    {
      "cell_type": "code",
      "metadata": {
        "id": "fsS1eQa07Q_S",
        "colab_type": "code",
        "colab": {
          "base_uri": "https://localhost:8080/",
          "height": 204
        },
        "outputId": "0444ab5d-8e96-44e5-cff6-879dfec79477"
      },
      "source": [
        "planilha_new.head()"
      ],
      "execution_count": 17,
      "outputs": [
        {
          "output_type": "execute_result",
          "data": {
            "text/html": [
              "<div>\n",
              "<style scoped>\n",
              "    .dataframe tbody tr th:only-of-type {\n",
              "        vertical-align: middle;\n",
              "    }\n",
              "\n",
              "    .dataframe tbody tr th {\n",
              "        vertical-align: top;\n",
              "    }\n",
              "\n",
              "    .dataframe thead th {\n",
              "        text-align: right;\n",
              "    }\n",
              "</style>\n",
              "<table border=\"1\" class=\"dataframe\">\n",
              "  <thead>\n",
              "    <tr style=\"text-align: right;\">\n",
              "      <th></th>\n",
              "      <th>id</th>\n",
              "      <th>data</th>\n",
              "      <th>preco_medio</th>\n",
              "      <th>volume_total</th>\n",
              "      <th>tipo</th>\n",
              "      <th>ano</th>\n",
              "    </tr>\n",
              "  </thead>\n",
              "  <tbody>\n",
              "    <tr>\n",
              "      <th>0</th>\n",
              "      <td>1</td>\n",
              "      <td>2017-01-01</td>\n",
              "      <td>2.06</td>\n",
              "      <td>39260.55</td>\n",
              "      <td>Orgânico</td>\n",
              "      <td>2017</td>\n",
              "    </tr>\n",
              "    <tr>\n",
              "      <th>1</th>\n",
              "      <td>2</td>\n",
              "      <td>2017-01-08</td>\n",
              "      <td>2.15</td>\n",
              "      <td>42755.80</td>\n",
              "      <td>Orgânico</td>\n",
              "      <td>2017</td>\n",
              "    </tr>\n",
              "    <tr>\n",
              "      <th>2</th>\n",
              "      <td>3</td>\n",
              "      <td>2017-01-15</td>\n",
              "      <td>2.09</td>\n",
              "      <td>42233.25</td>\n",
              "      <td>Orgânico</td>\n",
              "      <td>2017</td>\n",
              "    </tr>\n",
              "    <tr>\n",
              "      <th>3</th>\n",
              "      <td>4</td>\n",
              "      <td>2017-01-22</td>\n",
              "      <td>2.05</td>\n",
              "      <td>49056.11</td>\n",
              "      <td>Orgânico</td>\n",
              "      <td>2017</td>\n",
              "    </tr>\n",
              "    <tr>\n",
              "      <th>4</th>\n",
              "      <td>5</td>\n",
              "      <td>2017-01-29</td>\n",
              "      <td>2.08</td>\n",
              "      <td>46602.16</td>\n",
              "      <td>Convencional</td>\n",
              "      <td>2017</td>\n",
              "    </tr>\n",
              "  </tbody>\n",
              "</table>\n",
              "</div>"
            ],
            "text/plain": [
              "   id       data  preco_medio  volume_total          tipo   ano\n",
              "0   1 2017-01-01         2.06      39260.55      Orgânico  2017\n",
              "1   2 2017-01-08         2.15      42755.80      Orgânico  2017\n",
              "2   3 2017-01-15         2.09      42233.25      Orgânico  2017\n",
              "3   4 2017-01-22         2.05      49056.11      Orgânico  2017\n",
              "4   5 2017-01-29         2.08      46602.16  Convencional  2017"
            ]
          },
          "metadata": {
            "tags": []
          },
          "execution_count": 17
        }
      ]
    },
    {
      "cell_type": "code",
      "metadata": {
        "id": "rh72u5Vb7bgp",
        "colab_type": "code",
        "colab": {
          "base_uri": "https://localhost:8080/",
          "height": 34
        },
        "outputId": "b6cd83d7-28d9-47c6-b613-58c8c31be04b"
      },
      "source": [
        "# Data\n",
        "hoje = datetime.now()\n",
        "print(hoje)"
      ],
      "execution_count": 18,
      "outputs": [
        {
          "output_type": "stream",
          "text": [
            "2020-08-14 21:43:59.009310\n"
          ],
          "name": "stdout"
        }
      ]
    },
    {
      "cell_type": "code",
      "metadata": {
        "id": "s_xvSScC7fXg",
        "colab_type": "code",
        "colab": {
          "base_uri": "https://localhost:8080/",
          "height": 291
        },
        "outputId": "de508a6c-d6c7-4ab2-b24a-e8fd51b5d990"
      },
      "source": [
        "# Changing Report to html updating datas\n",
        "html_new = pug_to_html('/content/modelo_de_relatorio.pug',\n",
        "                    planilha=planilha_new,\n",
        "                    hoje=hoje)"
      ],
      "execution_count": 26,
      "outputs": [
        {
          "output_type": "display_data",
          "data": {
            "image/png": "[encoded data removed]",
            "text/plain": [
              "<Figure size 432x288 with 1 Axes>"
            ]
          },
          "metadata": {
            "tags": [],
            "needs_background": "light"
          }
        }
      ]
    },
    {
      "cell_type": "code",
      "metadata": {
        "id": "7uDNMAAU7obg",
        "colab_type": "code",
        "colab": {}
      },
      "source": [
        "# Bulding report in pdf\n",
        "write_report(html_new, 'controle_abacates_relatorio_atualizado.pdf')"
      ],
      "execution_count": 28,
      "outputs": []
    },
    {
      "cell_type": "code",
      "metadata": {
        "id": "YhOob8C88xGW",
        "colab_type": "code",
        "colab": {}
      },
      "source": [
        ""
      ],
      "execution_count": null,
      "outputs": []
    }
  ]
}