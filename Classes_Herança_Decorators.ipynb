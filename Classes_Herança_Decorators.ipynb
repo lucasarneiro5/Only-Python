{
  "nbformat": 4,
  "nbformat_minor": 0,
  "metadata": {
    "colab": {
      "name": "Classes-Herança-Decorators.ipynb",
      "provenance": [],
      "collapsed_sections": [],
      "authorship_tag": "ABX9TyO0ZsmgfJZoVhB8ZC05rQJY",
      "include_colab_link": true
    },
    "kernelspec": {
      "name": "python3",
      "display_name": "Python 3"
    },
    "language_info": {
      "name": "python"
    }
  },
  "cells": [
    {
      "cell_type": "markdown",
      "metadata": {
        "id": "view-in-github",
        "colab_type": "text"
      },
      "source": [
        "<a href=\"https://colab.research.google.com/github/lucasarneiro5/Only-Python/blob/main/Classes_Heran%C3%A7a_Decorators.ipynb\" target=\"_parent\"><img src=\"https://colab.research.google.com/assets/colab-badge.svg\" alt=\"Open In Colab\"/></a>"
      ]
    },
    {
      "cell_type": "markdown",
      "source": [
        "- CALSSES:\n",
        "  \n",
        "  * Blocos de construção mais importantes em sistemas OO, com responsabilidades bem definidas.\n",
        "\n",
        "  * Definem objetos com mesmos atributos e operações"
      ],
      "metadata": {
        "id": "lzXEA4Sx61a1"
      }
    },
    {
      "cell_type": "markdown",
      "source": [
        "\n",
        "```\n",
        "class Cubo: # Cabeçalho da classe\n",
        "  '''docstring(opcional-mas de boas praticas)'''\n",
        "  def metodo_construtor():\n",
        "    #codigo metodo construtor\n",
        "  def metodo(self,...) #metodo geral\n",
        "    self.membro = valor #dado instancia\n",
        "  pass\n",
        "```\n",
        "\n"
      ],
      "metadata": {
        "id": "Z1poBeur9L2p"
      }
    },
    {
      "cell_type": "code",
      "source": [
        "# Ex1:\n",
        "class Cubo: # Cabeçalho da classe\n",
        "  '''Classe para calcular o cubo de um numero'''\n",
        "  def __init__(self, valor): # metodo construtor da classe\n",
        "    self.x = valor\n",
        "    print('Objeto Criado!')\n",
        "  def calcula_cubo(self):\n",
        "    cubo = self.x * self.x * self.x\n",
        "    return 'Cubo calculado: ' + str(cubo)"
      ],
      "metadata": {
        "id": "Ed8WYL-68BsI"
      },
      "execution_count": null,
      "outputs": []
    },
    {
      "cell_type": "code",
      "source": [
        "teste = Cubo(5).calcula_cubo() # objeto 'teste' criado e chamando um metodo definido na classe\n",
        "print(teste)"
      ],
      "metadata": {
        "colab": {
          "base_uri": "https://localhost:8080/"
        },
        "id": "lWIsPD4M8EoA",
        "outputId": "fd3ca0d3-e371-4962-ffa4-e5af22223629"
      },
      "execution_count": null,
      "outputs": [
        {
          "output_type": "stream",
          "name": "stdout",
          "text": [
            "Objeto Criado!\n",
            "Cubo calculado: 125\n"
          ]
        }
      ]
    },
    {
      "cell_type": "markdown",
      "source": [
        "\n",
        "\n",
        "---\n",
        "\n",
        "\n",
        "\n",
        "---\n",
        "\n"
      ],
      "metadata": {
        "id": "K60-g1aQBuNw"
      }
    },
    {
      "cell_type": "code",
      "source": [
        "# Ex2: Criando um personagem no geral\n",
        "class Personagem:\n",
        "  '''Molde para criar qualquer personagem'''\n",
        "  def __init__(self, nome, cor):\n",
        "    self.nome = nome\n",
        "    self.cor = cor\n",
        "  def __repr__(self): # metodo de mostrar a classe e suas caracteristicas amigavelmente ao usuario\n",
        "    return f'Personagem(\"{self.nome}\", \"{self.cor}\")'"
      ],
      "metadata": {
        "id": "KJjYBT7eD-uB"
      },
      "execution_count": null,
      "outputs": []
    },
    {
      "cell_type": "code",
      "source": [
        "#Criando os personagens\n",
        "mickey = Personagem('Mickey', 'Preto')\n",
        "frajola = Personagem('Frajola', 'Preto')\n",
        "garfield = Personagem('Garfield', 'Laranja')"
      ],
      "metadata": {
        "id": "2k9p9h_UE6Z6"
      },
      "execution_count": null,
      "outputs": []
    },
    {
      "cell_type": "code",
      "source": [
        "mickey"
      ],
      "metadata": {
        "colab": {
          "base_uri": "https://localhost:8080/"
        },
        "id": "5x1_ERQsFt7V",
        "outputId": "118712d6-5d49-4463-8515-7066731cbb61"
      },
      "execution_count": null,
      "outputs": [
        {
          "output_type": "execute_result",
          "data": {
            "text/plain": [
              "Personagem(\"Mickey\", \"Preto\")"
            ]
          },
          "metadata": {},
          "execution_count": 18
        }
      ]
    },
    {
      "cell_type": "markdown",
      "source": [
        "\n",
        "\n",
        "---\n",
        "\n",
        "\n",
        "\n",
        "---\n",
        "\n",
        "##Herança\n",
        "\n",
        "Criar uma classe que pode ser reaproveitada em outras"
      ],
      "metadata": {
        "id": "5ZaHFXSm5oTN"
      }
    },
    {
      "cell_type": "code",
      "source": [
        "# Python Object Oriented Programming by Joe Marini course example\n",
        "# Understanding class inheritance\n",
        "\n",
        "\n",
        "class Publication:\n",
        "    def __init__(self, title, price):\n",
        "        self.title = title\n",
        "        self.price = price\n",
        "\n",
        "\n",
        "class Periodical(Publication):\n",
        "    def __init__(self, title, price, publisher, period):\n",
        "        super().__init__(title, price)\n",
        "        self.period = period\n",
        "        self.publisher = publisher\n",
        "\n",
        "\n",
        "class Book(Publication):\n",
        "    def __init__(self, title, author, pages, price):\n",
        "        super().__init__(title, price)\n",
        "        self.author = author\n",
        "        self.pages = pages\n",
        "\n",
        "\n",
        "class Magazine(Periodical):\n",
        "    def __init__(self, title, publisher, price, period):\n",
        "        super().__init__(title, price, publisher, period)\n",
        "\n",
        "\n",
        "class Newspaper(Periodical):\n",
        "    def __init__(self, title, publisher, price, period):\n",
        "        super().__init__(title, price, publisher, period)\n",
        "\n",
        "\n",
        "b1 = Book(\"Brave New World\", \"Aldous Huxley\", 311, 29.0)\n",
        "n1 = Newspaper(\"NY Times\", \"New York Times Company\", 6.0, \"Daily\")\n",
        "m1 = Magazine(\"Scientific American\", \"Springer Nature\", 5.99, \"Monthly\")\n",
        "\n",
        "print(b1.author)\n",
        "print(n1.publisher)\n",
        "print(b1.price, m1.price, n1.price)"
      ],
      "metadata": {
        "id": "Gfhmqcl0F3DU",
        "colab": {
          "base_uri": "https://localhost:8080/"
        },
        "outputId": "18f9568b-d68d-47e2-d88d-6230b9740deb"
      },
      "execution_count": null,
      "outputs": [
        {
          "output_type": "stream",
          "name": "stdout",
          "text": [
            "Aldous Huxley\n",
            "New York Times Company\n",
            "29.0 5.99 6.0\n"
          ]
        }
      ]
    },
    {
      "cell_type": "code",
      "source": [
        "# Python Object Oriented Programming by Joe Marini course example\n",
        "# Using the __str__ and __repr__ magic methods\n",
        "\n",
        "\n",
        "class Book:\n",
        "    def __init__(self, title, author, price):\n",
        "        super().__init__()\n",
        "        self.title = title\n",
        "        self.author = author\n",
        "        self.price = price\n",
        "\n",
        "    def __str__(self):\n",
        "        return f\"{self.title} by {self.author}, costs {self.price}\"\n",
        "\n",
        "    # TODO: the __call__ method can be used to call the object like a function\n",
        "    def __call__(self, title, author, price):\n",
        "        self.title = title\n",
        "        self.author = author\n",
        "        self.price = price\n",
        "\n",
        "\n",
        "b1 = Book(\"War and Peace\", \"Leo Tolstoy\", 39.95)\n",
        "b2 = Book(\"The Catcher in the Rye\", \"JD Salinger\", 29.95)\n",
        "\n",
        "# call the object as if it were a function\n",
        "print(b1)\n",
        "b1(\"Anna Karenina\", \"Leo Tolstoy\", 49.95)\n",
        "print(b1)"
      ],
      "metadata": {
        "colab": {
          "base_uri": "https://localhost:8080/"
        },
        "id": "ZSYIo99tj1p3",
        "outputId": "3266ee3b-2a16-44f7-9b95-c5dc0e79e493"
      },
      "execution_count": null,
      "outputs": [
        {
          "output_type": "stream",
          "name": "stdout",
          "text": [
            "War and Peace by Leo Tolstoy, costs 39.95\n",
            "Anna Karenina by Leo Tolstoy, costs 49.95\n"
          ]
        }
      ]
    },
    {
      "cell_type": "code",
      "source": [
        "# Python Object Oriented Programming by Joe Marini course example\n",
        "# Using the __str__ and __repr__ magic methods\n",
        "\n",
        "\n",
        "class Book:\n",
        "    def __init__(self, title, author, price):\n",
        "        super().__init__()\n",
        "        self.title = title\n",
        "        self.author = author\n",
        "        self.price = price\n",
        "        self._discount = 0.1\n",
        "\n",
        "    # The __str__ function is used to return a user-friendly string\n",
        "    # representation of the object\n",
        "    def __str__(self):\n",
        "        return f\"{self.title} by {self.author}, costs {self.price}\"\n",
        "\n",
        "    # Called when an attribute is retrieved. Be aware that you can't\n",
        "    # directly access the attr name otherwise a recursive loop is created\n",
        "    def __getattribute__(self, name):\n",
        "        if (name == \"price\"):\n",
        "            p = super().__getattribute__(\"price\")\n",
        "            d = super().__getattribute__(\"_discount\")\n",
        "            return p - (p * d)\n",
        "        return super().__getattribute__(name)\n",
        "\n",
        "    # __setattr__ called when an attribute value is set. Don't set the attr\n",
        "    # directly here otherwise a recursive loop causes a crash\n",
        "    def __setattr__(self, name, value):\n",
        "        if (name == \"price\"):\n",
        "            if type(value) is not float:\n",
        "                raise ValueError(\"The 'price' attribute must be a float\")\n",
        "        return super().__setattr__(name, value)\n",
        "\n",
        "    # __getattr__ called when __getattribute__ lookup fails - you can\n",
        "    # pretty much generate attributes on the fly with this method\n",
        "    def __getattr__(self, name):\n",
        "        return name + \" is not here!\"\n",
        "\n",
        "\n",
        "b1 = Book(\"War and Peace\", \"Leo Tolstoy\", 39.95)\n",
        "b2 = Book(\"The Catcher in the Rye\", \"JD Salinger\", 29.95)\n",
        "\n",
        "# Try setting and accessing the price\n",
        "b1.price = 38.95\n",
        "print(b1)\n",
        "\n",
        "b2.price = float(40)  # using an int will raise an exception\n",
        "print(b2)\n",
        "\n",
        "# If an attribute doesn't exist, __getattr__ will be called\n",
        "print(b1.randomprop)"
      ],
      "metadata": {
        "id": "S1j__ZY0i6BC",
        "colab": {
          "base_uri": "https://localhost:8080/"
        },
        "outputId": "f5721a20-ce84-42ec-adce-c5587c7f5476"
      },
      "execution_count": null,
      "outputs": [
        {
          "output_type": "stream",
          "name": "stdout",
          "text": [
            "War and Peace by Leo Tolstoy, costs 35.055\n",
            "The Catcher in the Rye by JD Salinger, costs 36.0\n",
            "randomprop is not here!\n"
          ]
        }
      ]
    },
    {
      "cell_type": "code",
      "source": [
        ""
      ],
      "metadata": {
        "id": "QvZolGdSuoC9"
      },
      "execution_count": null,
      "outputs": []
    },
    {
      "cell_type": "markdown",
      "source": [
        "\n",
        "\n",
        "---\n",
        "\n",
        "\n",
        "\n",
        "---\n",
        "\n",
        "## Decorators\n",
        "Função que recebe como parametro a função abaixo dela. Facilita ao chamar uma função dentro da outra"
      ],
      "metadata": {
        "id": "QXqCETmkObnS"
      }
    },
    {
      "cell_type": "code",
      "source": [
        "def my_decorator(func):\n",
        "    def wrapper():\n",
        "        print(\"Something is happening before the function is called.\")\n",
        "        func()\n",
        "        print(\"Something is happening after the function is called.\")\n",
        "    return wrapper\n",
        "\n",
        "@my_decorator # So, @my_decorator is just an easier way of saying say_whee = my_decorator(say_whee). \n",
        "def say_whee():\n",
        "    print(\"Whee!\")\n"
      ],
      "metadata": {
        "id": "yHf6opcFP0cY"
      },
      "execution_count": null,
      "outputs": []
    },
    {
      "cell_type": "code",
      "source": [
        "import time\n",
        "\n",
        "# Define nosso decorator\n",
        "def calcula_duracao(funcao):\n",
        "    def wrapper():\n",
        "        # Calcula o tempo de execução\n",
        "        tempo_inicial = time.time()\n",
        "        funcao()\n",
        "        tempo_final = time.time()\n",
        "\n",
        "        # Formata a mensagem que será mostrada na tela\n",
        "        print(\"[{funcao}] Tempo total de execução: {tempo_total}\".format(\n",
        "            funcao=funcao.__name__,\n",
        "            tempo_total=str(tempo_final - tempo_inicial))\n",
        "        )\n",
        "\n",
        "    return wrapper\n",
        "\n",
        "# Decora a função com o decorator\n",
        "@calcula_duracao\n",
        "def main():\n",
        "    for n in range(0, 10000000):\n",
        "        pass\n",
        "\n",
        "# Executa a função main\n",
        "main()"
      ],
      "metadata": {
        "colab": {
          "base_uri": "https://localhost:8080/"
        },
        "id": "wsRgaQXHOGMm",
        "outputId": "a4880268-cefc-4554-be85-11a3d3a18e64"
      },
      "execution_count": null,
      "outputs": [
        {
          "output_type": "stream",
          "name": "stdout",
          "text": [
            "[main] Tempo total de execução: 0.3356969356536865\n"
          ]
        }
      ]
    },
    {
      "cell_type": "code",
      "source": [
        ""
      ],
      "metadata": {
        "id": "2Jzxtp81Oxij"
      },
      "execution_count": null,
      "outputs": []
    }
  ]
}